{
 "cells": [
  {
   "cell_type": "markdown",
   "metadata": {
    "colab_type": "text",
    "id": "9s1WadZGbd_Z"
   },
   "source": [
    "# <font color='red'>Secondo Notebook</font>"
   ]
  },
  {
   "cell_type": "markdown",
   "metadata": {},
   "source": [
    "Questo secondo notebook tratta un argomento decisamente più avanzato del precedente. L'obiettivo è quello di costruire un modello in grado di classificare i jet in base alle variabile ottenuti da un esperimento al rivelatore. Per la costruzione del modello useremo gli stessi dati del notebook precedente _(training set)_, per testarlo avremo a disposizione altri dati _(testing set)_.<br>\n",
    "Ovviamente i dati all'interno del training set sono già stati classificati, ricorderemo che per tali dati è sufficiente farsi restituire il valore della variabile 50 per sapere a quale categoria appartiene il jet in questione. Anche i dati del testing set sono già stati classificati: dopo aver \"istruito\" il modello con i dati nel training set, lo metteremo alla prova con i dati nel testing set, i quali verranno classificati come se non fossero noti e i risultati saranno confrontati con quelli veri, così avremo un'idea dell'efficienza del modello quando lo useremo per classificare dati non noti."
   ]
  },
  {
   "cell_type": "markdown",
   "metadata": {},
   "source": [
    "# Obiettivi:"
   ]
  },
  {
   "cell_type": "markdown",
   "metadata": {},
   "source": [
    "* Imparare i concetti fondamentali per il funzionamento di una rete neurale;\n",
    "* Costruire una rete neurale;\n",
    "* Valutarne l'efficienza tramite il metodo già acquisito della curva ROC e la matrice di confusione."
   ]
  },
  {
   "cell_type": "markdown",
   "metadata": {},
   "source": [
    "# Introduzione"
   ]
  },
  {
   "cell_type": "markdown",
   "metadata": {},
   "source": [
    "Facciamo ancora qualche considerazione sul testing set.<br>\n",
    "Come ricorderemo i dati sono divisi in otto categorie, la settima in particolare è la cosidetta _\"truth as integer\"_ ovvero \"verità come intero\", si ricorderà infatti che la variabile 50 (l'unica all'interno della settima categoria) è quella che classifica i jet, ovvero associa a ciascuno un numero intero (1, 4, 5, 21) e ad ogni numero intero corrisponde un tipo di jet.<br>"
   ]
  },
  {
   "cell_type": "markdown",
   "metadata": {},
   "source": [
    "Per capire come fa la variabile 50 a classificare i jet dobbiamo guardare alle cosiddette variabili _\"truth\"_, ovvero le variabili della sesta categoria (dalla 43 alla 49):\n",
    "43. \"isB*1\",\n",
    "44. \"isBB+isGBB\",\n",
    "45. \"isLeptonicB+isLeptonicB_C\",\n",
    "46. \"isC+isGCC+isCC\",\n",
    "47. \"isUD+isS\",\n",
    "48. \"isG*1\",\n",
    "49. \"isUndefined*1\"<br>"
   ]
  },
  {
   "cell_type": "markdown",
   "metadata": {},
   "source": [
    "Ciascuna di queste sette variabili possono assumere solo due valori: 0 o 1. In particolare, per ogni evento nel set di dati, soltanto una di queste sette variabili assume il valore 1 e tutte le altre sono 0. Leggendo i nomi non è difficile intuire che:\n",
    "* Le prime tre variabili stanno a significare: \"Questo jet contiene un quark b\"\n",
    "* La quarta: \"Questo jet contiene un quark c\"\n",
    "* La quinta: \"Questo jet contiene solo quark leggeri\"\n",
    "* La sesta: \"Questo è un jet gluonico\"\n",
    "* La settima: \"Questo jet non è definito\" (Non c'è nessun jet nel nostro set che abbia questa variabile uguale a 1)<br>\n",
    "Dunque sapendo quale di queste variabili ha valore 1 per un dato jet, sappiamo anche di che tipo di jet si tratti."
   ]
  },
  {
   "cell_type": "markdown",
   "metadata": {},
   "source": [
    "__Se vogliamo che l'informazione sul tipo di jet sia rinchiusa in un'unica variabile (la 50) e non in sette differenti, come possiamo definire la variabile 50 partendo dalle sette precedenti?__"
   ]
  },
  {
   "cell_type": "markdown",
   "metadata": {},
   "source": [
    "__Soluzione:__<br>\n",
    "50. \"5x(isB+isBB+isGBB+isLeptonicB+isLeptonicB_C) + 4x(isC+isGCC+isCC) + 1x(isUD+isS) + 21xisG + 0xisUndefined\"<br>\n",
    "(I coefficienti sono arbitrari)"
   ]
  },
  {
   "cell_type": "markdown",
   "metadata": {},
   "source": [
    "Ora rimane una questione: Conoscendo il valore delle variabili truth sappiamo il tipo di jet. Nel caso di questo set di dati il valore di tali variabili è noto a priori e incluso nel set. In generale, lo scopo di un esperimento di tagging (ovvero il lavoro che andremo a fare sul testing set), è proprio quello di identificare i jet, ovvero assegnare i valori corretti alle variabili truth a partire dai risultati che otteniamo durante l'esperimento, i quali sono racchiusi nelle variabili del primo, secondo e terzo gruppo (quindi dalla 0 alla 15, esclusa la 6)."
   ]
  },
  {
   "cell_type": "markdown",
   "metadata": {},
   "source": [
    "Ci si potrebbe chiedere come mai non possiamo fare in modo che l'algoritmo ci restituisca direttamente il valore della variabile 50 anziché di altre 7 variabili. Il punto è che la rete neurale che vogliamo costruire si basa sul scegliere tra 7 categorie la più probabile.<br>\n",
    "Ovvero: _Per un dato evento, quale delle variabili truth è più probabile che abbia un valore pari a 1?_<br>\n",
    "Questo è un compito molto più semplice piuttosto che chiedere all'algoritmo di fissare il valore preciso di una variabile."
   ]
  },
  {
   "cell_type": "markdown",
   "metadata": {},
   "source": [
    "Lo scopo di questo notebook sarà proprio quello di sviluppare una rete neurale che ci permetta di assegnare dei valori alle variabili truth (non noti a priori), basandoci solo sui dati che si ottengono durante un esperimento ovvero sui valori delle variabili da 0 a 15 esculsa la 6.<br>\n",
    "In gergo si dice che, in questo caso, le _Features_ sono le prime sedici variabili esclusa la settima e i _Target_ sono le variabili truth."
   ]
  },
  {
   "cell_type": "markdown",
   "metadata": {},
   "source": [
    "Iniziamo come prima importando i dati:"
   ]
  },
  {
   "cell_type": "code",
   "execution_count": 1,
   "metadata": {
    "colab": {
     "base_uri": "https://localhost:8080/",
     "height": 332
    },
    "colab_type": "code",
    "executionInfo": {
     "elapsed": 6922,
     "status": "ok",
     "timestamp": 1574958894442,
     "user": {
      "displayName": "Leonardo Giannini",
      "photoUrl": "",
      "userId": "17020021302640739393"
     },
     "user_tz": -60
    },
    "id": "KGgOakJtr_kT",
    "outputId": "06eb074f-9fa0-42d2-f9e3-f61141498e77"
   },
   "outputs": [
    {
     "name": "stdout",
     "output_type": "stream",
     "text": [
      "File already downloaded\n"
     ]
    }
   ],
   "source": [
    "from sklearn.metrics import roc_curve, auc\n",
    "import os\n",
    "if os.path.isfile('test93_0_20000.npz') :\n",
    "    print (\"File already downloaded\")\n",
    "else:\n",
    "    !wget --load-cookies /tmp/cookies.txt \"https://docs.google.com/uc?export=download&confirm=$(wget --quiet --save-cookies /tmp/cookies.txt --keep-session-cookies --no-check-certificate 'https://docs.google.com/uc?export=download&id=1RhxZfiQFp7GidUS_ayJADDdQM6OfG3ye' -O- | sed -rn 's/.*confirm=([0-9A-Za-z_]+).*/\\1\\n/p')&id=1RhxZfiQFp7GidUS_ayJADDdQM6OfG3ye\" -O test93_0_20000.npz && rm -rf /tmp/cookies.txt\n",
    "  \n"
   ]
  },
  {
   "cell_type": "code",
   "execution_count": 2,
   "metadata": {
    "colab": {
     "base_uri": "https://localhost:8080/",
     "height": 34
    },
    "colab_type": "code",
    "executionInfo": {
     "elapsed": 6906,
     "status": "ok",
     "timestamp": 1574958894452,
     "user": {
      "displayName": "Leonardo Giannini",
      "photoUrl": "",
      "userId": "17020021302640739393"
     },
     "user_tz": -60
    },
    "id": "y4_Aht8PrC_J",
    "outputId": "13a61455-5a60-4db1-ad53-5904867f4df5"
   },
   "outputs": [
    {
     "data": {
      "text/plain": [
       "['test93_20000_40000.npz', 'test93_0_20000.npz']"
      ]
     },
     "execution_count": 2,
     "metadata": {},
     "output_type": "execute_result"
    }
   ],
   "source": [
    "os.path.isfile('test93_0_20000.npz')\n",
    "\n",
    "import glob\n",
    "glob.glob(\"*npz\")"
   ]
  },
  {
   "cell_type": "code",
   "execution_count": 3,
   "metadata": {
    "colab": {},
    "colab_type": "code",
    "id": "7pMcP1z2rHvE"
   },
   "outputs": [],
   "source": [
    "import numpy\n",
    "\n",
    "f=numpy.load(\"test93_0_20000.npz\")\n",
    "\n",
    "dati_train=f[\"arr_0\"]"
   ]
  },
  {
   "cell_type": "markdown",
   "metadata": {},
   "source": [
    "# Breve teoria sulle reti neurali"
   ]
  },
  {
   "cell_type": "markdown",
   "metadata": {},
   "source": [
    "Per capire in cosa consiste una rete neurale soffermiamoci nuovamente sull'obiettivo, o la _\"Task\"_, di questa rete in particolare:<br>\n",
    "_Date le 15 variabili che caratterizzano un jet voglio sapere a quale delle 7 categorie questo appartiene._<br>\n",
    "Dunque una rete neurale non è nient'altro che una _funzione_, questa prende in input 15 numeri e ne restituisce in output 7. Questi output sono 7 numeri compresi tra 0 e 1 e rappresentano la _probabilità_ che il jet in questione appartenga a una data categoria. Se prendiamo il maggiore tra tutti e 7 gli output otteniamo la risposta.<br>\n",
    "_Attenzione:_ Questa NON è la risposta alla domanda \"a quale categoria appartiene il jet\", ma è la risposta alla domanda \"a quale categoria è più probabile che appartenga il jet\"."
   ]
  },
  {
   "cell_type": "markdown",
   "metadata": {},
   "source": [
    "Si intuisce che questa funzione, per prendere in input 15 numeri e restituirne 7, debba essere estremamente complicata e non ha il minimo senso pensare di costruirla a mano.<br>\n",
    "L'innovazione del Machine Learning sta proprio qui: nel modo innovativo in cui viene costruita la funzione cercata, ovvero _ipotizzando_ in partenza una possibile forma funzionale che poi viene perfezionata tramite la _sintonizzazione dei parametri_."
   ]
  },
  {
   "cell_type": "markdown",
   "metadata": {},
   "source": [
    "### Sintonizzazione dei parametri"
   ]
  },
  {
   "cell_type": "markdown",
   "metadata": {},
   "source": [
    "Per capire il concetto prendiamo una funzione semplicissima: _f(x) = a*x_<br>\n",
    "In questa funzione \"x\" è la variabile e \"a\" è il parametro.<br>\n",
    "Come abbiamo detto una rete neurale non è nient'altro che una funzione, possiamo quindi immaginare questa funzione f(x) come una rete neurale molto semplice. Sviluppiamo questa analogia nel seguente modo:\n",
    "* Immaginiamo di voler costruire una rete la cui task sia: _\"Dato un numero n voglio sapere quanto vale la metà di n\"_\n",
    "* Dobbiamo partire avendo un training set, data la semplicità del problema possiamo assumere che un set composto da un solo dato sia sufficiente. Prendiamo come training set il solo numero 2, di cui sappiamo la metà essere 1\n",
    "* Ipotizziamo una forma funzionale per la funzione che compirà questo task: f(x) = a*x<br>\n",
    "__Ragionare sopra il fatto che in questa analogia:__\n",
    "* __Features = {2};__\n",
    "* __Target = {f(2)} = {1}__<br>\n",
    "A questo punto la variabile del problema è diventata \"a\" o, meglio, \"a\" corrisponde al parametro da sintonizzare. Essenzialmente ora ci chiediamo: abbiamo ipotizzato una forma per f(x) che comprende un solo parametro (a) e sappiamo analizzando i dati nel training set che f(2) = 1, quale valore del parametro \"a\" consente questo? La risposta è ovviamente \"a = 1/2\". Abbiamo dunque sintonizzato l'unico parametro della nostra rete neurale e, mantenendo questa sintonizzazione sappiamo che qualsiasi valore in un ipotetico testing set a cui applicheremo la rete neurale ci darà la risposta corretta alla task."
   ]
  },
  {
   "cell_type": "markdown",
   "metadata": {},
   "source": [
    "OSS: In questo caso abbiamo concluso che \"per qualsiasi valore la risposta sarà corretta\" in quanto la task è molto semplice, generalmente si parla sempre di probabilità e non di certezze assolute."
   ]
  },
  {
   "cell_type": "markdown",
   "metadata": {},
   "source": [
    "_Conclusione:_ Anche nella rete neurale che siamo interessati a sviluppare ricorreremo alla sintonizzazione dei parametri, con la differenza che in questo caso i parametri sono molti di più (dell'ordine dei 1000 o 10000).<br>"
   ]
  },
  {
   "cell_type": "markdown",
   "metadata": {},
   "source": [
    "### Funzione di perdita\n",
    "Essendo una situazione estremamente più complessa non possiamo pensare di trovare una data sintonizzazione tale per cui a ogni elemento nel set di training riusciamo a fare corrispondere il target corretto. Nei casi pratici bisogna scendere a compromessi e cercare la combinazione di parametri che permetta di minimizzare la differenza tra target ipotizzati e target veri. Questa differenza viene concretizzata nella cosiddetta \"Loss Function\" o \"Funzione di Perdita\", ovvero una funzione che prende in input tutti i parametri della rete neurale e restituisce in output un numero, il quale rappresenta la _perdita_. Ovviamente più il valore della funzione è basso e più i parametri che prende come input sono \"buoni\".<br>\n",
    "_\"All'atto pratico la sintonizzazione dei parametri si riduce a cercare il MINIMO GLOBALE della funzione di perdita\"_"
   ]
  },
  {
   "cell_type": "markdown",
   "metadata": {
    "colab_type": "text",
    "id": "emuqKM1crYNN"
   },
   "source": [
    "# Costruire il modello"
   ]
  },
  {
   "cell_type": "markdown",
   "metadata": {},
   "source": [
    "### Preparazione del set di dati"
   ]
  },
  {
   "cell_type": "markdown",
   "metadata": {},
   "source": [
    "Il modello ha bisogno di prendere in input sia le variabili note (Features) che le variabili \"obiettivo\" (Target). Ovviamente nella fase in cui si istruisce il modello le variabili Target sono note a priori.<br>"
   ]
  },
  {
   "cell_type": "code",
   "execution_count": 4,
   "metadata": {
    "colab": {},
    "colab_type": "code",
    "id": "NMhlM6hdr20K"
   },
   "outputs": [],
   "source": [
    "Features_train=dati_train[:,[0,1,2,3,4,5,7,8,9,10,11,12,13,14,15]]\n",
    "Target_train=dati_train[:,43:49]"
   ]
  },
  {
   "cell_type": "code",
   "execution_count": 5,
   "metadata": {},
   "outputs": [
    {
     "name": "stdout",
     "output_type": "stream",
     "text": [
      "(20000, 15) (20000, 6)\n"
     ]
    }
   ],
   "source": [
    "print(Features_train.shape, Target_train.shape)"
   ]
  },
  {
   "cell_type": "markdown",
   "metadata": {},
   "source": [
    "OSS: Ricordiamo che, nella sintassi di python, scrivendo 43:49 includiamo la 43 ed escludiamo la 49, quindi consideriamo come Target solo le variabili da 43 a 48 e infatti la forma è (20000,6). Questo perché come abbiamo visto nel notebook precedente non c'è nessun evento classificato come \"indefinito\" quindi non c'è alcun modo in cui l'algoritmo possa \"imparare\" a classificare certi tipi di jet come indefiniti. Allora tanto vale togliere la categoria."
   ]
  },
  {
   "cell_type": "markdown",
   "metadata": {
    "colab_type": "text",
    "id": "ibkIB_FyrmS3"
   },
   "source": [
    "### Definire la struttura del modello"
   ]
  },
  {
   "cell_type": "markdown",
   "metadata": {},
   "source": [
    "La definizione della struttura è una parte fondamentale che determina l'efficienza della rete. Non ci soffermeremo su ogni singola linea di codice ma solo sugli aspetti più globali e interessanti."
   ]
  },
  {
   "cell_type": "code",
   "execution_count": 6,
   "metadata": {
    "colab": {
     "base_uri": "https://localhost:8080/",
     "height": 81
    },
    "colab_type": "code",
    "executionInfo": {
     "elapsed": 8778,
     "status": "ok",
     "timestamp": 1574958896368,
     "user": {
      "displayName": "Leonardo Giannini",
      "photoUrl": "",
      "userId": "17020021302640739393"
     },
     "user_tz": -60
    },
    "id": "Su5LOAZ5tL4S",
    "outputId": "d31b9e70-2ed8-4924-95d9-2af9fc199158"
   },
   "outputs": [
    {
     "name": "stderr",
     "output_type": "stream",
     "text": [
      "Using TensorFlow backend.\n"
     ]
    }
   ],
   "source": [
    "#Importiamo le librerie necessarie\n",
    "from keras.models import Model\n",
    "from keras.layers import Dense, Input, Conv2D, Dropout, Flatten, Concatenate, Reshape, BatchNormalization\n",
    "from keras.layers import MaxPooling2D, MaxPooling3D\n",
    "from keras.callbacks import EarlyStopping, ReduceLROnPlateau, TerminateOnNaN"
   ]
  },
  {
   "cell_type": "markdown",
   "metadata": {},
   "source": [
    "Cercare il minimo globale di una funzione di migliaia di variabili non è certo un compito facile. Il funzionamento degli algoritmi che eseguono questo compito dipende da diversi parametri che possono venire modificati manualmente. Tre dei principali sono riportati nella cella sottostante.<br>\n",
    "Ci soffermeremo sul significato di \"n_epochs\": Significa letteralmente \"numero di epoche\", essenzialmente un'epoca equivale a un'iterazione su tutto il training set, l'algoritmo ne esegue diverse di iterazioni ogni volta cercando nuove strade per ridurre la funzione di perdita affinando sempre di più la sintonizzazione dei parametri. Quante iterazioni esegue sul training set è dato proprio da n_epochs."
   ]
  },
  {
   "cell_type": "code",
   "execution_count": 7,
   "metadata": {
    "colab": {},
    "colab_type": "code",
    "id": "ZV3YVkTxtxyL"
   },
   "outputs": [],
   "source": [
    "batch_size = 512               \n",
    "n_epochs = 500\n",
    "dropoutRate = 0.25"
   ]
  },
  {
   "cell_type": "markdown",
   "metadata": {},
   "source": [
    "La struttura di una rete neurale è fatta a strati, o layer. Nel primo strato (input layer) andranno caricate le Features e nell'ultimo strato (output layer) i Target. In mezzo si trovano altri strati: aggiungere più strati significa sostanzialmente aggiungere più parametri alla funzione. Il numero di strati (nonché la loro dimensione) non è mai noto a priori in un problema di deep learning, occorre sperimentare con varie combinazioni fino a trovare quella che ci da i risultati migliori."
   ]
  },
  {
   "cell_type": "code",
   "execution_count": 8,
   "metadata": {
    "colab": {
     "base_uri": "https://localhost:8080/",
     "height": 228
    },
    "colab_type": "code",
    "executionInfo": {
     "elapsed": 8758,
     "status": "ok",
     "timestamp": 1574958896392,
     "user": {
      "displayName": "Leonardo Giannini",
      "photoUrl": "",
      "userId": "17020021302640739393"
     },
     "user_tz": -60
    },
    "id": "CNMi0Dywt2Zu",
    "outputId": "8fbbf745-0c29-43e5-e88a-3ac82f857ac8"
   },
   "outputs": [
    {
     "name": "stderr",
     "output_type": "stream",
     "text": [
      "WARNING: Logging before flag parsing goes to stderr.\n",
      "W1101 15:49:25.028534 140164238387008 deprecation_wrapper.py:119] From /opt/conda/lib/python3.7/site-packages/keras/backend/tensorflow_backend.py:74: The name tf.get_default_graph is deprecated. Please use tf.compat.v1.get_default_graph instead.\n",
      "\n",
      "W1101 15:49:25.059650 140164238387008 deprecation_wrapper.py:119] From /opt/conda/lib/python3.7/site-packages/keras/backend/tensorflow_backend.py:517: The name tf.placeholder is deprecated. Please use tf.compat.v1.placeholder instead.\n",
      "\n",
      "W1101 15:49:25.198641 140164238387008 deprecation_wrapper.py:119] From /opt/conda/lib/python3.7/site-packages/keras/backend/tensorflow_backend.py:133: The name tf.placeholder_with_default is deprecated. Please use tf.compat.v1.placeholder_with_default instead.\n",
      "\n",
      "W1101 15:49:25.230207 140164238387008 deprecation_wrapper.py:119] From /opt/conda/lib/python3.7/site-packages/keras/backend/tensorflow_backend.py:4138: The name tf.random_uniform is deprecated. Please use tf.random.uniform instead.\n",
      "\n",
      "W1101 15:49:25.263669 140164238387008 deprecation.py:506] From /opt/conda/lib/python3.7/site-packages/keras/backend/tensorflow_backend.py:3445: calling dropout (from tensorflow.python.ops.nn_ops) with keep_prob is deprecated and will be removed in a future version.\n",
      "Instructions for updating:\n",
      "Please use `rate` instead of `keep_prob`. Rate should be set to `rate = 1 - keep_prob`.\n"
     ]
    }
   ],
   "source": [
    "inputLayer = Input(shape=(15,))\n",
    "x = BatchNormalization()(inputLayer)\n",
    "####\n",
    "x = Dense(30, activation='relu')(x)\n",
    "x = Dropout(rate=dropoutRate)(x)\n",
    "x = Dense(30, activation='relu')(x)\n",
    "x = Dropout(rate=dropoutRate)(x)\n",
    "####\n",
    "x = Dense(20, activation='relu')(x)\n",
    "x = Dropout(rate=dropoutRate)(x)\n",
    "####\n",
    "x = Dense(10, activation='relu')(x)\n",
    "x = Dropout(rate=dropoutRate)(x)\n",
    "####\n",
    "outputLayer = Dense(6, activation='softmax')(x)\n",
    "####\n",
    "model = Model(inputs=inputLayer, outputs=outputLayer)"
   ]
  },
  {
   "cell_type": "code",
   "execution_count": 9,
   "metadata": {
    "colab": {
     "base_uri": "https://localhost:8080/",
     "height": 607
    },
    "colab_type": "code",
    "executionInfo": {
     "elapsed": 9172,
     "status": "ok",
     "timestamp": 1574958896820,
     "user": {
      "displayName": "Leonardo Giannini",
      "photoUrl": "",
      "userId": "17020021302640739393"
     },
     "user_tz": -60
    },
    "id": "zpHRe4yOu5OR",
    "outputId": "1a32a680-e4a8-42a1-bbff-b195146b9974"
   },
   "outputs": [
    {
     "name": "stderr",
     "output_type": "stream",
     "text": [
      "W1101 15:49:29.181062 140164238387008 deprecation_wrapper.py:119] From /opt/conda/lib/python3.7/site-packages/keras/optimizers.py:790: The name tf.train.Optimizer is deprecated. Please use tf.compat.v1.train.Optimizer instead.\n",
      "\n",
      "W1101 15:49:29.221058 140164238387008 deprecation_wrapper.py:119] From /opt/conda/lib/python3.7/site-packages/keras/backend/tensorflow_backend.py:3295: The name tf.log is deprecated. Please use tf.math.log instead.\n",
      "\n"
     ]
    },
    {
     "name": "stdout",
     "output_type": "stream",
     "text": [
      "_________________________________________________________________\n",
      "Layer (type)                 Output Shape              Param #   \n",
      "=================================================================\n",
      "input_1 (InputLayer)         (None, 15)                0         \n",
      "_________________________________________________________________\n",
      "batch_normalization_1 (Batch (None, 15)                60        \n",
      "_________________________________________________________________\n",
      "dense_1 (Dense)              (None, 30)                480       \n",
      "_________________________________________________________________\n",
      "dropout_1 (Dropout)          (None, 30)                0         \n",
      "_________________________________________________________________\n",
      "dense_2 (Dense)              (None, 30)                930       \n",
      "_________________________________________________________________\n",
      "dropout_2 (Dropout)          (None, 30)                0         \n",
      "_________________________________________________________________\n",
      "dense_3 (Dense)              (None, 20)                620       \n",
      "_________________________________________________________________\n",
      "dropout_3 (Dropout)          (None, 20)                0         \n",
      "_________________________________________________________________\n",
      "dense_4 (Dense)              (None, 10)                210       \n",
      "_________________________________________________________________\n",
      "dropout_4 (Dropout)          (None, 10)                0         \n",
      "_________________________________________________________________\n",
      "dense_5 (Dense)              (None, 6)                 66        \n",
      "=================================================================\n",
      "Total params: 2,366\n",
      "Trainable params: 2,336\n",
      "Non-trainable params: 30\n",
      "_________________________________________________________________\n"
     ]
    }
   ],
   "source": [
    "model.compile(loss='categorical_crossentropy', optimizer='adam')\n",
    "model.summary()"
   ]
  },
  {
   "cell_type": "markdown",
   "metadata": {},
   "source": [
    "Qui sopra c'è uno schema della rete riassuntivo, il numero totale di parametri da sintonizzare, in questo caso, è 2336."
   ]
  },
  {
   "cell_type": "markdown",
   "metadata": {
    "colab_type": "text",
    "id": "szTvLXvKr1SP"
   },
   "source": [
    "### Istruire il modello"
   ]
  },
  {
   "cell_type": "markdown",
   "metadata": {},
   "source": [
    "Dopo aver creato la struttura della rete, è il momento di inserire i dati del training set (Features e Target) e lasciare che il modello \"impari\"."
   ]
  },
  {
   "cell_type": "code",
   "execution_count": 10,
   "metadata": {
    "colab": {
     "base_uri": "https://localhost:8080/",
     "height": 1000
    },
    "colab_type": "code",
    "executionInfo": {
     "elapsed": 17392,
     "status": "ok",
     "timestamp": 1574958905070,
     "user": {
      "displayName": "Leonardo Giannini",
      "photoUrl": "",
      "userId": "17020021302640739393"
     },
     "user_tz": -60
    },
    "id": "cVhpt1sDu8pI",
    "outputId": "84db08d4-9024-4828-b334-1e3736c39cda"
   },
   "outputs": [
    {
     "name": "stderr",
     "output_type": "stream",
     "text": [
      "W1101 15:49:36.209017 140164238387008 deprecation.py:323] From /opt/conda/lib/python3.7/site-packages/tensorflow/python/ops/math_grad.py:1250: add_dispatch_support.<locals>.wrapper (from tensorflow.python.ops.array_ops) is deprecated and will be removed in a future version.\n",
      "Instructions for updating:\n",
      "Use tf.where in 2.0, which has the same broadcast rule as np.where\n"
     ]
    },
    {
     "name": "stdout",
     "output_type": "stream",
     "text": [
      "Train on 14000 samples, validate on 6000 samples\n",
      "Epoch 1/500\n",
      " - 2s - loss: 1.7284 - val_loss: 1.6495\n",
      "Epoch 2/500\n",
      " - 0s - loss: 1.6012 - val_loss: 1.4854\n",
      "Epoch 3/500\n",
      " - 0s - loss: 1.4696 - val_loss: 1.2965\n",
      "Epoch 4/500\n",
      " - 0s - loss: 1.3715 - val_loss: 1.2118\n",
      "Epoch 5/500\n",
      " - 0s - loss: 1.3090 - val_loss: 1.1708\n",
      "Epoch 6/500\n",
      " - 0s - loss: 1.2579 - val_loss: 1.1502\n",
      "Epoch 7/500\n",
      " - 0s - loss: 1.2307 - val_loss: 1.1345\n",
      "Epoch 8/500\n",
      " - 0s - loss: 1.2163 - val_loss: 1.1263\n",
      "Epoch 9/500\n",
      " - 0s - loss: 1.2014 - val_loss: 1.1194\n",
      "Epoch 10/500\n",
      " - 0s - loss: 1.1948 - val_loss: 1.1136\n",
      "Epoch 11/500\n",
      " - 0s - loss: 1.1797 - val_loss: 1.1076\n",
      "Epoch 12/500\n",
      " - 0s - loss: 1.1806 - val_loss: 1.1056\n",
      "Epoch 13/500\n",
      " - 0s - loss: 1.1753 - val_loss: 1.1026\n",
      "Epoch 14/500\n",
      " - 0s - loss: 1.1708 - val_loss: 1.1014\n",
      "Epoch 15/500\n",
      " - 0s - loss: 1.1597 - val_loss: 1.0996\n",
      "Epoch 16/500\n",
      " - 0s - loss: 1.1623 - val_loss: 1.0987\n",
      "Epoch 17/500\n",
      " - 0s - loss: 1.1490 - val_loss: 1.0953\n",
      "Epoch 18/500\n",
      " - 0s - loss: 1.1470 - val_loss: 1.0946\n",
      "Epoch 19/500\n",
      " - 0s - loss: 1.1466 - val_loss: 1.0908\n",
      "Epoch 20/500\n",
      " - 0s - loss: 1.1388 - val_loss: 1.0904\n",
      "Epoch 21/500\n",
      " - 0s - loss: 1.1428 - val_loss: 1.0898\n",
      "Epoch 22/500\n",
      " - 0s - loss: 1.1366 - val_loss: 1.0874\n",
      "Epoch 23/500\n",
      " - 0s - loss: 1.1359 - val_loss: 1.0875\n",
      "Epoch 24/500\n",
      " - 0s - loss: 1.1366 - val_loss: 1.0885\n",
      "\n",
      "Epoch 00024: ReduceLROnPlateau reducing learning rate to 0.00010000000474974513.\n",
      "Epoch 25/500\n",
      " - 0s - loss: 1.1313 - val_loss: 1.0883\n",
      "Epoch 26/500\n",
      " - 0s - loss: 1.1272 - val_loss: 1.0876\n",
      "\n",
      "Epoch 00026: ReduceLROnPlateau reducing learning rate to 1.0000000474974514e-05.\n",
      "Epoch 27/500\n",
      " - 0s - loss: 1.1308 - val_loss: 1.0876\n",
      "Epoch 28/500\n",
      " - 0s - loss: 1.1305 - val_loss: 1.0875\n",
      "\n",
      "Epoch 00028: ReduceLROnPlateau reducing learning rate to 1.0000000656873453e-06.\n",
      "Epoch 29/500\n",
      " - 0s - loss: 1.1309 - val_loss: 1.0875\n",
      "Epoch 30/500\n",
      " - 0s - loss: 1.1273 - val_loss: 1.0875\n",
      "\n",
      "Epoch 00030: ReduceLROnPlateau reducing learning rate to 1.0000001111620805e-07.\n",
      "Epoch 31/500\n",
      " - 0s - loss: 1.1314 - val_loss: 1.0875\n",
      "Epoch 32/500\n",
      " - 0s - loss: 1.1346 - val_loss: 1.0876\n",
      "\n",
      "Epoch 00032: ReduceLROnPlateau reducing learning rate to 1.000000082740371e-08.\n",
      "Epoch 00032: early stopping\n"
     ]
    }
   ],
   "source": [
    "history = model.fit(Features_train, Target_train, epochs=n_epochs, batch_size=batch_size, verbose = 2,\n",
    "                validation_split=0.3,\n",
    "                callbacks = [\n",
    "                EarlyStopping(monitor='val_loss', patience=10, verbose=1),\n",
    "                ReduceLROnPlateau(monitor='val_loss', factor=0.1, patience=2, verbose=1),\n",
    "                TerminateOnNaN()])"
   ]
  },
  {
   "cell_type": "markdown",
   "metadata": {},
   "source": [
    "Di seguito un grafico dell'andamento della funzione di perdita in funzione dell'epoca. Si può notare che la funzione si è stabilizzata dopo una certa iterazione, questo vuol dire che non era necessario andare avanti fino alla 500esima e il processo si è fermato automaticamente."
   ]
  },
  {
   "cell_type": "code",
   "execution_count": 12,
   "metadata": {
    "colab": {
     "base_uri": "https://localhost:8080/",
     "height": 295
    },
    "colab_type": "code",
    "executionInfo": {
     "elapsed": 1342,
     "status": "ok",
     "timestamp": 1574959493814,
     "user": {
      "displayName": "Leonardo Giannini",
      "photoUrl": "",
      "userId": "17020021302640739393"
     },
     "user_tz": -60
    },
    "id": "_2WLNQJFvijm",
    "outputId": "a5847d85-a64b-4e80-b72d-be9772fa1a4c"
   },
   "outputs": [
    {
     "data": {
      "image/png": "[encoded data removed]",
      "text/plain": [
       "<Figure size 432x288 with 1 Axes>"
      ]
     },
     "metadata": {
      "needs_background": "light"
     },
     "output_type": "display_data"
    }
   ],
   "source": [
    "from matplotlib import pyplot as plt\n",
    "\n",
    "plt.plot(history.history['loss'])\n",
    "plt.yscale('log')\n",
    "plt.title('Perdita vs Epoca')\n",
    "plt.ylabel('perdita')\n",
    "plt.xlabel('epoca')\n",
    "plt.show()"
   ]
  },
  {
   "cell_type": "markdown",
   "metadata": {
    "colab_type": "text",
    "id": "SkSrOA3usU-C"
   },
   "source": [
    "# Valutare l'efficienza del modello"
   ]
  },
  {
   "cell_type": "markdown",
   "metadata": {},
   "source": [
    "Come preannunciato, per valutare l'efficienza del modello occorre caricare un nuovo set di dati, questa volta un testing set."
   ]
  },
  {
   "cell_type": "code",
   "execution_count": 13,
   "metadata": {
    "colab": {
     "base_uri": "https://localhost:8080/",
     "height": 332
    },
    "colab_type": "code",
    "executionInfo": {
     "elapsed": 4752,
     "status": "ok",
     "timestamp": 1574959569556,
     "user": {
      "displayName": "Leonardo Giannini",
      "photoUrl": "",
      "userId": "17020021302640739393"
     },
     "user_tz": -60
    },
    "id": "tlAhXyDOwPXF",
    "outputId": "69eb548e-9dbc-4036-9374-4d3eb4ee9eda"
   },
   "outputs": [
    {
     "name": "stdout",
     "output_type": "stream",
     "text": [
      "File already downloaded\n"
     ]
    }
   ],
   "source": [
    "if os.path.isfile('test93_20000_40000.npz') :\n",
    "    print (\"File already downloaded\")\n",
    "else:\n",
    "    !wget --load-cookies /tmp/cookies.txt \"https://docs.google.com/uc?export=download&confirm=$(wget --quiet --save-cookies /tmp/cookies.txt --keep-session-cookies --no-check-certificate 'https://docs.google.com/uc?export=download&id=192NLlG33MH8M3nHnvQQzvk0m32ct18TU' -O- | sed -rn 's/.*confirm=([0-9A-Za-z_]+).*/\\1\\n/p')&id=192NLlG33MH8M3nHnvQQzvk0m32ct18TU\" -O test93_20000_40000.npz && rm -rf /tmp/cookies.txt\n",
    "  \n",
    "os.path.isfile('test93_20000_40000.npz')\n",
    "glob.glob(\"*npz\")\n",
    "\n",
    "test=numpy.load(\"test93_20000_40000.npz\")\n",
    "\n",
    "dati_test=test[\"arr_0\"]\n",
    "\n",
    "Features_test=dati_test[:,[0,1,2,3,4,5,7,8,9,10,11,12,13,14,15]]\n",
    "Target_test=dati_test[:,43:49]\n",
    "\n"
   ]
  },
  {
   "cell_type": "markdown",
   "metadata": {},
   "source": [
    "Guariamo a Target_test:"
   ]
  },
  {
   "cell_type": "code",
   "execution_count": 14,
   "metadata": {},
   "outputs": [
    {
     "data": {
      "text/plain": [
       "array([[0., 0., 0., 0., 0., 1.],\n",
       "       [0., 0., 0., 0., 0., 1.],\n",
       "       [0., 0., 0., 0., 0., 1.],\n",
       "       ...,\n",
       "       [1., 0., 0., 0., 0., 0.],\n",
       "       [0., 0., 0., 0., 0., 1.],\n",
       "       [0., 1., 0., 0., 0., 0.]])"
      ]
     },
     "execution_count": 14,
     "metadata": {},
     "output_type": "execute_result"
    }
   ],
   "source": [
    "Target_test"
   ]
  },
  {
   "cell_type": "code",
   "execution_count": 15,
   "metadata": {},
   "outputs": [
    {
     "data": {
      "text/plain": [
       "(20000, 6)"
      ]
     },
     "execution_count": 15,
     "metadata": {},
     "output_type": "execute_result"
    }
   ],
   "source": [
    "Target_test.shape"
   ]
  },
  {
   "cell_type": "markdown",
   "metadata": {},
   "source": [
    "Come ci aspettiamo si tratta di una matrice di 20000 righe. Per ogni riga, in base a dove casca l'uno, sappiamo a quale categoria appartiene l'evento corrispondente.<br>\n",
    "Ci ricorderemo però che le prime tre variabili della categoria \"truth\" rappresentano tutte degli adroni b che danno origine ai b-jet, dunque le vorremmo accorpare in un'unica categoria, facciamo così:"
   ]
  },
  {
   "cell_type": "code",
   "execution_count": 16,
   "metadata": {},
   "outputs": [],
   "source": [
    "#s sta per sommata\n",
    "Target_test_s=numpy.zeros((len(Features_test),4))\n",
    "Target_test_s[:,0]+=Target_test[:,0]\n",
    "Target_test_s[:,0]+=Target_test[:,1]\n",
    "Target_test_s[:,0]+=Target_test[:,2]\n",
    "Target_test_s[:,1]+=Target_test[:,3]\n",
    "Target_test_s[:,2]+=Target_test[:,4]\n",
    "Target_test_s[:,3]+=Target_test[:,5]"
   ]
  },
  {
   "cell_type": "markdown",
   "metadata": {},
   "source": [
    "(Abbiamo prima creato una matrice con tutti zeri di dimensioni 20000x4, poi abbiamo imposto che la prima colonna fosse data dalla somma delle prime tre colonne della matrice precedente, che la seconda fosse uguale alla quarta della matrice precedente eccetera...)"
   ]
  },
  {
   "cell_type": "code",
   "execution_count": 17,
   "metadata": {},
   "outputs": [
    {
     "data": {
      "text/plain": [
       "(20000, 4)"
      ]
     },
     "execution_count": 17,
     "metadata": {},
     "output_type": "execute_result"
    }
   ],
   "source": [
    "Target_test_s.shape"
   ]
  },
  {
   "cell_type": "code",
   "execution_count": 18,
   "metadata": {},
   "outputs": [
    {
     "data": {
      "text/plain": [
       "array([[0., 0., 0., 1.],\n",
       "       [0., 0., 0., 1.],\n",
       "       [0., 0., 0., 1.],\n",
       "       ...,\n",
       "       [1., 0., 0., 0.],\n",
       "       [0., 0., 0., 1.],\n",
       "       [1., 0., 0., 0.]])"
      ]
     },
     "execution_count": 18,
     "metadata": {},
     "output_type": "execute_result"
    }
   ],
   "source": [
    "Target_test_s"
   ]
  },
  {
   "cell_type": "markdown",
   "metadata": {},
   "source": [
    "Per mettere alla prova il modello è sufficiente usare il seguente comando.<br>"
   ]
  },
  {
   "cell_type": "code",
   "execution_count": 19,
   "metadata": {
    "colab": {},
    "colab_type": "code",
    "id": "i5KH3RQkbeAK"
   },
   "outputs": [],
   "source": [
    "predizioni = model.predict(Features_test)"
   ]
  },
  {
   "cell_type": "markdown",
   "metadata": {},
   "source": [
    "Questo comando ci restituisce una matrice (\"predizioni\").<br>"
   ]
  },
  {
   "cell_type": "code",
   "execution_count": 20,
   "metadata": {},
   "outputs": [
    {
     "data": {
      "text/plain": [
       "(20000, 6)"
      ]
     },
     "execution_count": 20,
     "metadata": {},
     "output_type": "execute_result"
    }
   ],
   "source": [
    "predizioni.shape"
   ]
  },
  {
   "cell_type": "markdown",
   "metadata": {},
   "source": [
    "_Attenzione_: ricordiamo che la nostra rete era fatta per dividere il set di dati in 6 categorie, non in 4, quindi ci restituirà una matrice 20000x6, non 20000x4."
   ]
  },
  {
   "cell_type": "code",
   "execution_count": 21,
   "metadata": {},
   "outputs": [
    {
     "data": {
      "text/plain": [
       "array([[0.03866488, 0.00310007, 0.02028742, 0.10739259, 0.39047268,\n",
       "        0.4400823 ],\n",
       "       [0.03381933, 0.00307272, 0.01873976, 0.10822768, 0.3574074 ,\n",
       "        0.47873318],\n",
       "       [0.02158792, 0.00219972, 0.01126099, 0.09813739, 0.29652473,\n",
       "        0.57028925],\n",
       "       ...,\n",
       "       [0.2846254 , 0.08109227, 0.17842107, 0.12229282, 0.08594178,\n",
       "        0.2476266 ],\n",
       "       [0.04089404, 0.00758624, 0.02481242, 0.12426051, 0.22667876,\n",
       "        0.575768  ],\n",
       "       [0.25764775, 0.07791158, 0.15840174, 0.13078177, 0.10008934,\n",
       "        0.27516782]], dtype=float32)"
      ]
     },
     "execution_count": 21,
     "metadata": {},
     "output_type": "execute_result"
    }
   ],
   "source": [
    "predizioni"
   ]
  },
  {
   "cell_type": "markdown",
   "metadata": {},
   "source": [
    "In questa matrice ogni elemento corrisponde a una probabilità.<br>\n",
    "Ogni riga rappresenta un evento, ogni colonna rappresenta una categoria, quindi ogni elemento corrisponde alla probabilità che un evento appartenga a una certa categoria."
   ]
  },
  {
   "cell_type": "markdown",
   "metadata": {},
   "source": [
    "Vale però la stessa cosa di prima, ovvero questa è una 20000x6 ma noi abbiamo solo 4 categorie, questo perché le prime tre vanno accorpate in una unica:"
   ]
  },
  {
   "cell_type": "code",
   "execution_count": 22,
   "metadata": {},
   "outputs": [],
   "source": [
    "predizioni_s=numpy.zeros((len(Features_test),4))\n",
    "predizioni_s[:,0]+=predizioni[:,0]\n",
    "predizioni_s[:,0]+=predizioni[:,1]\n",
    "predizioni_s[:,0]+=predizioni[:,2]\n",
    "predizioni_s[:,1]+=predizioni[:,3]\n",
    "predizioni_s[:,2]+=predizioni[:,4]\n",
    "predizioni_s[:,3]+=predizioni[:,5]"
   ]
  },
  {
   "cell_type": "code",
   "execution_count": 23,
   "metadata": {},
   "outputs": [
    {
     "data": {
      "text/plain": [
       "(20000, 4)"
      ]
     },
     "execution_count": 23,
     "metadata": {},
     "output_type": "execute_result"
    }
   ],
   "source": [
    "predizioni_s.shape"
   ]
  },
  {
   "cell_type": "markdown",
   "metadata": {},
   "source": [
    "In questa matrice:\n",
    "* Prima colonna -> Probabilità di b-jet\n",
    "* Seconda colonna -> Probabilità di c-jet\n",
    "* Terza colonna -> Probabilità di jet leggero\n",
    "* Quarta colonna -> Probabilità di jet gluonico"
   ]
  },
  {
   "cell_type": "code",
   "execution_count": 24,
   "metadata": {},
   "outputs": [
    {
     "data": {
      "text/plain": [
       "array([[0.06205237, 0.10739259, 0.39047268, 0.44008231],\n",
       "       [0.0556318 , 0.10822768, 0.35740739, 0.47873318],\n",
       "       [0.03504863, 0.09813739, 0.29652473, 0.57028925],\n",
       "       ...,\n",
       "       [0.54413874, 0.12229282, 0.08594178, 0.2476266 ],\n",
       "       [0.07329269, 0.12426051, 0.22667876, 0.57576799],\n",
       "       [0.49396107, 0.13078177, 0.10008934, 0.27516782]])"
      ]
     },
     "execution_count": 24,
     "metadata": {},
     "output_type": "execute_result"
    }
   ],
   "source": [
    "predizioni_s"
   ]
  },
  {
   "cell_type": "markdown",
   "metadata": {},
   "source": [
    "__Guardando questa matrice, scrivere la più probabile categoria di appartenenza dei jet adronici dall'80esimo al 90esimo secondo il modello da noi creato__"
   ]
  },
  {
   "cell_type": "markdown",
   "metadata": {},
   "source": [
    "__Verificare per quali tra quei jet il risultato predetto è corretto__<br>\n",
    "___Suggerimento: confrontare con i valori della matrice Target test s)___"
   ]
  },
  {
   "cell_type": "markdown",
   "metadata": {
    "colab_type": "text",
    "id": "d4XoaUudtm-g"
   },
   "source": [
    "### Curve ROC"
   ]
  },
  {
   "cell_type": "markdown",
   "metadata": {},
   "source": [
    "Come nel notebook precedente valutiamo l'efficienza con le curve ROC e le AUC.<br>\n",
    "Ricordiamo che:\n",
    "* Target_test_s contiene i dati delle categorie _vere_\n",
    "* predizioni_s contiene i dati delle categorie _ipotizzate_<br>"
   ]
  },
  {
   "cell_type": "markdown",
   "metadata": {},
   "source": [
    "Vogliamo anche in questo caso capire quale dei seguenti compiti è adempito più efficacemente dal modello:\n",
    "* distinguere b-jet rispetto a tutti gli altri\n",
    "* distinguere b-jet rispetto ai jet leggeri e gluonici\n",
    "* distinguere b-jet rispetto ai c-jet<br>"
   ]
  },
  {
   "cell_type": "markdown",
   "metadata": {},
   "source": [
    "#### b-jet vs tutti"
   ]
  },
  {
   "cell_type": "markdown",
   "metadata": {},
   "source": [
    "Per il primo compito il vettore dei valori veri (quello che nell'altro notebook era \"isB\") deve essere (com'era \"isB\") un vettore di 20000 elementi booleani per cui vale: se l'elemento n-esimo è True allora il jet n-esimo è un b-jet, se è False NON è un b-jet."
   ]
  },
  {
   "cell_type": "markdown",
   "metadata": {},
   "source": [
    "Risulta facile convincersi che tale vettore è dato dalla prima colonna della matrice \"Target_test_s\":"
   ]
  },
  {
   "cell_type": "code",
   "execution_count": 25,
   "metadata": {},
   "outputs": [
    {
     "data": {
      "text/plain": [
       "array([0., 0., 0., ..., 1., 0., 1.])"
      ]
     },
     "execution_count": 25,
     "metadata": {},
     "output_type": "execute_result"
    }
   ],
   "source": [
    "Target_test_s[:,0]"
   ]
  },
  {
   "cell_type": "markdown",
   "metadata": {},
   "source": [
    "OSS: Nell'altro notebook gli elementi dei vettori coi valori veri erano del tipo {True, False}, in realtà in python i valori booleani possono venire espressi anche come {1, 0} dove 1 = True e 0 = False. Dunque anche se lasciassimo il vettore così com'è non avremmo nessun tipo di problema ma per coerenza col notebook precedente indichiamo:"
   ]
  },
  {
   "cell_type": "code",
   "execution_count": 26,
   "metadata": {},
   "outputs": [],
   "source": [
    "isB = Target_test_s[:,0]>0"
   ]
  },
  {
   "cell_type": "code",
   "execution_count": 27,
   "metadata": {},
   "outputs": [
    {
     "data": {
      "text/plain": [
       "array([False, False, False, ...,  True, False,  True])"
      ]
     },
     "execution_count": 27,
     "metadata": {},
     "output_type": "execute_result"
    }
   ],
   "source": [
    "isB"
   ]
  },
  {
   "cell_type": "markdown",
   "metadata": {},
   "source": [
    "Per il vettore con i valori ipotizzati selezioniamo semplicemente la prima colonna della matrice predizioni_s:"
   ]
  },
  {
   "cell_type": "code",
   "execution_count": 28,
   "metadata": {},
   "outputs": [
    {
     "data": {
      "text/plain": [
       "array([0.06205237, 0.0556318 , 0.03504863, ..., 0.54413874, 0.07329269,\n",
       "       0.49396107])"
      ]
     },
     "execution_count": 28,
     "metadata": {},
     "output_type": "execute_result"
    }
   ],
   "source": [
    "predizioni_s[:,0]"
   ]
  },
  {
   "cell_type": "markdown",
   "metadata": {},
   "source": [
    "E ora ci facciamo dare la ROC:"
   ]
  },
  {
   "cell_type": "code",
   "execution_count": 29,
   "metadata": {},
   "outputs": [],
   "source": [
    "fpr, tpr, soglia = roc_curve(isB,predizioni_s[:,0])\n",
    "auc1 = auc(fpr, tpr)"
   ]
  },
  {
   "cell_type": "markdown",
   "metadata": {},
   "source": [
    "#### b-jet vs leggeri, gluonici"
   ]
  },
  {
   "cell_type": "markdown",
   "metadata": {},
   "source": [
    "Costruiamo ora l'analogo di \"isBvsLG\", ovvero il vettore che contenga solo i b-jet, i jet leggeri e i gluonici ma NON i c-jet e per cui valga: se l'elemento n-esimo è True allora il jet n-esimo è un b-jet, se è False è o un jet leggero o un gluonico."
   ]
  },
  {
   "cell_type": "markdown",
   "metadata": {},
   "source": [
    "Dobbiamo imporre una condizione con le parentesi quadre. La condizione è, per ogni riga della matrice Target_test_s, se il secondo elemento (corrispondente alla probabilità di c-jet) è uguale a 1, allora la riga va eliminata. Analogamente tengo solo le righe per cui il secondo elemento è uguale a 0, quindi la condizione è:"
   ]
  },
  {
   "cell_type": "code",
   "execution_count": 30,
   "metadata": {},
   "outputs": [
    {
     "data": {
      "text/plain": [
       "array([ True,  True,  True, ...,  True,  True,  True])"
      ]
     },
     "execution_count": 30,
     "metadata": {},
     "output_type": "execute_result"
    }
   ],
   "source": [
    "Target_test_s[:,1]==0"
   ]
  },
  {
   "cell_type": "code",
   "execution_count": 31,
   "metadata": {},
   "outputs": [],
   "source": [
    "isBvsLG = Target_test_s[Target_test_s[:,1]==0]"
   ]
  },
  {
   "cell_type": "code",
   "execution_count": 32,
   "metadata": {},
   "outputs": [
    {
     "data": {
      "text/plain": [
       "(17916, 4)"
      ]
     },
     "execution_count": 32,
     "metadata": {},
     "output_type": "execute_result"
    }
   ],
   "source": [
    "isBvsLG.shape # Abbiamo tolto un po' più di 2000 eventi che erano c-jet"
   ]
  },
  {
   "cell_type": "markdown",
   "metadata": {},
   "source": [
    "Bisogna però togliere gli stessi elementi anche per i dati ipotizzati:"
   ]
  },
  {
   "cell_type": "code",
   "execution_count": 33,
   "metadata": {},
   "outputs": [],
   "source": [
    "predizioni_bl = predizioni_s[Target_test_s[:,1]==0]"
   ]
  },
  {
   "cell_type": "code",
   "execution_count": 34,
   "metadata": {},
   "outputs": [
    {
     "data": {
      "text/plain": [
       "(17916, 4)"
      ]
     },
     "execution_count": 34,
     "metadata": {},
     "output_type": "execute_result"
    }
   ],
   "source": [
    "predizioni_bl.shape"
   ]
  },
  {
   "cell_type": "markdown",
   "metadata": {},
   "source": [
    "Ovviamente di entrambe queste matrici ci interessa solo la prima colonna, quella contenente le probabilità di b-jet."
   ]
  },
  {
   "cell_type": "code",
   "execution_count": 35,
   "metadata": {
    "colab": {
     "base_uri": "https://localhost:8080/",
     "height": 52
    },
    "colab_type": "code",
    "executionInfo": {
     "elapsed": 602,
     "status": "ok",
     "timestamp": 1574959652436,
     "user": {
      "displayName": "Leonardo Giannini",
      "photoUrl": "",
      "userId": "17020021302640739393"
     },
     "user_tz": -60
    },
    "id": "MSlKSoPTwrtq",
    "outputId": "178385d1-7fd3-4ad2-dff4-8195b4435b29"
   },
   "outputs": [],
   "source": [
    "fpr2, tpr2, soglia = roc_curve(isBvsLG[:,0],predizioni_bl[:,0])\n",
    "auc2 = auc(fpr2, tpr2)"
   ]
  },
  {
   "cell_type": "markdown",
   "metadata": {},
   "source": [
    "#### b-jet vs c-jet"
   ]
  },
  {
   "cell_type": "markdown",
   "metadata": {},
   "source": [
    "Per costruire l'analogo di \"isBvsC\" il procedimento è uguale a prima, ma ora dobbiamo rimuovere sia le righe di summed per cui il terzo elemento è uguale a 1 sia quelle per cui il quarto è uguale a 1, imponiamo le due condizioni una per volta:"
   ]
  },
  {
   "cell_type": "code",
   "execution_count": 36,
   "metadata": {},
   "outputs": [],
   "source": [
    "isBvsCG = Target_test_s[Target_test_s[:,2]==0]\n",
    "isBvsC = isBvsCG[isBvsCG[:,3]==0]"
   ]
  },
  {
   "cell_type": "code",
   "execution_count": 37,
   "metadata": {},
   "outputs": [
    {
     "data": {
      "text/plain": [
       "(4413, 4)"
      ]
     },
     "execution_count": 37,
     "metadata": {},
     "output_type": "execute_result"
    }
   ],
   "source": [
    "isBvsC.shape"
   ]
  },
  {
   "cell_type": "markdown",
   "metadata": {},
   "source": [
    "E analogamente per il vettore di ipotesi:"
   ]
  },
  {
   "cell_type": "code",
   "execution_count": 38,
   "metadata": {},
   "outputs": [],
   "source": [
    "predizioni_bcg = predizioni_s[(Target_test_s[:,2]==0)]\n",
    "predizioni_bc = predizioni_bcg[isBvsCG[:,3]==0]"
   ]
  },
  {
   "cell_type": "code",
   "execution_count": 39,
   "metadata": {},
   "outputs": [
    {
     "data": {
      "text/plain": [
       "(4413, 4)"
      ]
     },
     "execution_count": 39,
     "metadata": {},
     "output_type": "execute_result"
    }
   ],
   "source": [
    "predizioni_bc.shape"
   ]
  },
  {
   "cell_type": "code",
   "execution_count": 40,
   "metadata": {},
   "outputs": [],
   "source": [
    "fpr3, tpr3, soglia = roc_curve(isBvsC[:,0],predizioni_bc[:,0])\n",
    "auc3 = auc(fpr3, tpr3)"
   ]
  },
  {
   "cell_type": "markdown",
   "metadata": {},
   "source": [
    "#### Conclusioni sulle ROC"
   ]
  },
  {
   "cell_type": "markdown",
   "metadata": {},
   "source": [
    "Osserviamo ora le AUC:"
   ]
  },
  {
   "cell_type": "code",
   "execution_count": 41,
   "metadata": {},
   "outputs": [
    {
     "name": "stdout",
     "output_type": "stream",
     "text": [
      "0.8591859768641371 0.8736113863092799 0.751293051230047\n"
     ]
    }
   ],
   "source": [
    "print (auc1, auc2, auc3)"
   ]
  },
  {
   "cell_type": "markdown",
   "metadata": {},
   "source": [
    "__Cosa si può concludere sul modello? È più o meno efficiente del metodo visto nel primo notebook?__"
   ]
  },
  {
   "cell_type": "code",
   "execution_count": 42,
   "metadata": {
    "colab": {
     "base_uri": "https://localhost:8080/",
     "height": 300
    },
    "colab_type": "code",
    "executionInfo": {
     "elapsed": 720,
     "status": "ok",
     "timestamp": 1574959657604,
     "user": {
      "displayName": "Leonardo Giannini",
      "photoUrl": "",
      "userId": "17020021302640739393"
     },
     "user_tz": -60
    },
    "id": "rHA3F1tut3mu",
    "outputId": "c1717ed8-120c-4815-f4d2-cf6bc5b8ffd3",
    "scrolled": true
   },
   "outputs": [
    {
     "data": {
      "image/png": "[encoded data removed]",
      "text/plain": [
       "<Figure size 432x288 with 1 Axes>"
      ]
     },
     "metadata": {
      "needs_background": "light"
     },
     "output_type": "display_data"
    }
   ],
   "source": [
    "plt.plot(fpr,tpr,label=\"vs tutti\")\n",
    "plt.plot(fpr2,tpr2,label=\"vs l\")\n",
    "plt.plot(fpr3,tpr3,label=\"vs c\")\n",
    "plt.xlabel(\"False Positive Rate\")\n",
    "plt.ylabel(\"True Positive Rate\")\n",
    "plt.ylim(0.0001,1)\n",
    "plt.grid(True)\n",
    "plt.legend(loc='lower right')\n",
    "plt.show()"
   ]
  },
  {
   "cell_type": "markdown",
   "metadata": {},
   "source": [
    "__Guardando questo grafico, cercare le analogie con le ROC del notebook precedente__"
   ]
  },
  {
   "cell_type": "markdown",
   "metadata": {
    "colab_type": "text",
    "id": "TsjWx40Bujb_"
   },
   "source": [
    "# Matrice di confusione"
   ]
  },
  {
   "cell_type": "markdown",
   "metadata": {},
   "source": [
    "L'ultimo strumento che vediamo, il quale torna molto utile per visualizzare appieno l'efficienza di un modello, è la matrice di confusione."
   ]
  },
  {
   "cell_type": "markdown",
   "metadata": {},
   "source": [
    "Nelle due celle seguenti c'è il codice per generarla ma non ci fermeremo a studiarlo, guardiamo piuttosto cosa riusciamo a intuire dalla matrice stessa."
   ]
  },
  {
   "cell_type": "code",
   "execution_count": 43,
   "metadata": {
    "colab": {},
    "colab_type": "code",
    "id": "bBWliUV1uipN"
   },
   "outputs": [],
   "source": [
    "import itertools\n",
    "def plot_confusion_matrix(cm, classes,\n",
    "                          normalize=False,\n",
    "                          title='Confusion matrix',\n",
    "                          cmap=plt.cm.Spectral):\n",
    "    \"\"\"\n",
    "    This function prints and plots the confusion matrix.\n",
    "    Normalization can be applied by setting `normalize=True`.\n",
    "    \"\"\"\n",
    "    if normalize:\n",
    "        cm = cm.astype('float') / cm.sum(axis=1)[:, numpy.newaxis]\n",
    "        print(\"Matrice di confusione normalizzata\")\n",
    "    else:\n",
    "        print('Matrice di confusione NON normalizzata')\n",
    "\n",
    "    print(cm)\n",
    "\n",
    "    plt.imshow(cm, interpolation='nearest', cmap=cmap)\n",
    "    plt.title(title)\n",
    "    plt.colorbar()\n",
    "    tick_marks = numpy.arange(len(classes)+1)-0.5\n",
    "    plt.xticks(tick_marks, classes, rotation=45)\n",
    "    plt.yticks(tick_marks, classes)\n",
    "\n",
    "    fmt = '.2f' if normalize else 'd'\n",
    "    thresh = cm.max() / 2.\n",
    "    for i, j in itertools.product(range(cm.shape[0]), range(cm.shape[1])):\n",
    "        plt.text(j, i, format(cm[i, j], fmt),\n",
    "                 horizontalalignment=\"center\",\n",
    "                 color=\"white\" if cm[i, j] > thresh else \"black\")\n",
    "\n",
    "    plt.tight_layout()\n",
    "    plt.ylabel('Categorie vere')\n",
    "    plt.xlabel('Predizioni')"
   ]
  },
  {
   "cell_type": "code",
   "execution_count": 44,
   "metadata": {
    "colab": {},
    "colab_type": "code",
    "id": "ga5wpIk8utyA",
    "scrolled": true
   },
   "outputs": [
    {
     "name": "stdout",
     "output_type": "stream",
     "text": [
      "Matrice di confusione NON normalizzata\n",
      "[[ 1325     0    39   965]\n",
      " [  413     0    56  1615]\n",
      " [  261     0   454  3658]\n",
      " [  643     0   199 10372]]\n"
     ]
    },
    {
     "data": {
      "image/png": "[encoded data removed]",
      "text/plain": [
       "<Figure size 432x288 with 2 Axes>"
      ]
     },
     "metadata": {
      "needs_background": "light"
     },
     "output_type": "display_data"
    }
   ],
   "source": [
    "from sklearn.metrics import confusion_matrix\n",
    "cnf_matrix = confusion_matrix(numpy.argmax(Target_test_s, axis=1), numpy.argmax(predizioni_s, axis=1))\n",
    "numpy.set_printoptions(precision=2)\n",
    "# Plot non-normalized confusion matrix\n",
    "plt.figure()\n",
    "plot_confusion_matrix(cnf_matrix, classes=[\"b\",\"c\",\"l\",\"g\"],\n",
    "                      title='Matrice di confusione NON normalizzata')\n",
    "\n"
   ]
  },
  {
   "cell_type": "markdown",
   "metadata": {},
   "source": [
    "Ignoriamo per ora la scala di colori (anche perché nella versione della matrice non normalizzata questa è totalmente inutile) e soffermiamoci sulle entrate della matrice.<br>\n",
    "Le righe sono etichettate come \"Categorie vere\" e le colonne come \"Predizioni\".<br>\n",
    "Soffermiamoci sulla prima riga della matrice:\n",
    "* se sommiamo tutti i numeri della prima riga otteniamo 2329 che è il numero totale di b-jet _veri_ che c'erano nel testing set;\n",
    "* di tutti gli eventi che erano veramente b-jet, solo circa 1200 sono stati correttamente ipotizzati dal modello;\n",
    "* per il resto, 0 di quelli sono stati erroneamente ipotizzati come c-jet;\n",
    "* circa 100 come jet leggeri;\n",
    "* circa 1000 come jet gluonici;<br>\n",
    "Stesso discorso vale per tutte le righe della matrice.<br>\n",
    "Ovviamente, sulla diagonale della matrice compaiono i jet correttamente ipotizzati.<br>\n",
    "__Ricordando che in totale i jet sono 20000, calcolare la percentuale di jet correttamente ipotizzati dal modello__"
   ]
  },
  {
   "cell_type": "markdown",
   "metadata": {},
   "source": [
    "Salta sicuramente all'occhio il fatto che NESSUNO dei jet nel testing set è stato ipotizzato dal modello per essere un c-jet."
   ]
  },
  {
   "cell_type": "markdown",
   "metadata": {},
   "source": [
    "__Provare a verificare questa cosa studiando la matrice \"predizioni_s\"__<br>\n",
    "___Suggerimento: bisogna verificare che in nessuna riga della matrice il secondo elemento è maggiore di tutti gli altri___"
   ]
  },
  {
   "cell_type": "markdown",
   "metadata": {},
   "source": [
    "Di seguito invece compare la versione normalizzata della matrice di confusione:"
   ]
  },
  {
   "cell_type": "code",
   "execution_count": 45,
   "metadata": {
    "colab": {},
    "colab_type": "code",
    "id": "PABoQyGIwudh"
   },
   "outputs": [
    {
     "name": "stdout",
     "output_type": "stream",
     "text": [
      "Matrice di confusione normalizzata\n",
      "[[0.57 0.   0.02 0.41]\n",
      " [0.2  0.   0.03 0.77]\n",
      " [0.06 0.   0.1  0.84]\n",
      " [0.06 0.   0.02 0.92]]\n"
     ]
    },
    {
     "data": {
      "image/png": "[encoded data removed]",
      "text/plain": [
       "<Figure size 432x288 with 2 Axes>"
      ]
     },
     "metadata": {
      "needs_background": "light"
     },
     "output_type": "display_data"
    }
   ],
   "source": [
    "# Plot normalized confusion matrix\n",
    "plt.figure()\n",
    "plot_confusion_matrix(cnf_matrix, classes=[\"b\",\"c\",\"l\",\"g\"], normalize=True,\n",
    "                      title='Normalized confusion matrix')\n"
   ]
  },
  {
   "cell_type": "markdown",
   "metadata": {},
   "source": [
    "(In questo caso la prima entrata significa che poco più del 50% dei b-jet è stato correttamente ipotizzato...)"
   ]
  },
  {
   "cell_type": "markdown",
   "metadata": {},
   "source": [
    "Con la matrice normalizzata la scala di colori assume un senso. Per avere un buon modello dovremmo sperare che la diagonale della matrice sia colorata con colori freddi mentre tutto il resto con colori caldi, va da sé che non è questo il caso."
   ]
  },
  {
   "cell_type": "markdown",
   "metadata": {},
   "source": [
    "__Specificare perché le conclusioni che si traggono guardando la matrice sono le stesse che si evincono guardando il grafico della ROC__"
   ]
  }
 ],
 "metadata": {
  "colab": {
   "collapsed_sections": [],
   "name": "keras_DNN.ipynb",
   "provenance": []
  },
  "kernelspec": {
   "display_name": "Python 3",
   "language": "python",
   "name": "python3"
  },
  "language_info": {
   "codemirror_mode": {
    "name": "ipython",
    "version": 3
   },
   "file_extension": ".py",
   "mimetype": "text/x-python",
   "name": "python",
   "nbconvert_exporter": "python",
   "pygments_lexer": "ipython3",
   "version": "3.7.3"
  }
 },
 "nbformat": 4,
 "nbformat_minor": 1
}
