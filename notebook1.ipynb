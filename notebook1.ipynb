{
 "cells": [
  {
   "cell_type": "markdown",
   "metadata": {
    "colab_type": "text",
    "id": "4d4UYgpC0m_Q"
   },
   "source": [
    "# <font color='red'>Primo Notebook</font>"
   ]
  },
  {
   "cell_type": "markdown",
   "metadata": {},
   "source": [
    "In questo primo notebook studieremo un algoritmo che permette di classificare i jet adronici in base ai valori delle variabili discriminanti. Studieremo anche un metodo per valutare l'efficienza di queste variabili, ovvero la curva ROC."
   ]
  },
  {
   "cell_type": "markdown",
   "metadata": {},
   "source": [
    "# Obiettivi:"
   ]
  },
  {
   "cell_type": "markdown",
   "metadata": {},
   "source": [
    "* Familiarizzare con alcuni comandi di base del linguaggio di programmazione Python 3;\n",
    "* Visualizzare il set di dati esplicitamente e graficamente;\n",
    "* Preparare il set di dati per un'analisi vera e propria;\n",
    "* Valutare l'efficienza delle variabili discriminanti, prima \"a occhio\" e poi in maniera formale col metodo della curva ROC."
   ]
  },
  {
   "cell_type": "markdown",
   "metadata": {},
   "source": [
    "# Comandi Preliminari\n",
    "Nelle prime tre celle vengono scaricati i dati da google drive e immagazzinati in modo da renderli disponibili all'interno del notebook. Vengono inoltre caricate alcune librerie esterne che ci serviranno per la nostra analisi."
   ]
  },
  {
   "cell_type": "code",
   "execution_count": 1,
   "metadata": {
    "colab": {
     "base_uri": "https://localhost:8080/",
     "height": 343
    },
    "colab_type": "code",
    "executionInfo": {
     "elapsed": 8392,
     "status": "ok",
     "timestamp": 1583226794475,
     "user": {
      "displayName": "Leonardo Giannini",
      "photoUrl": "",
      "userId": "17020021302640739393"
     },
     "user_tz": -60
    },
    "id": "xkgol3pF1SZN",
    "outputId": "a718c11c-4559-4d7f-e5e7-af1eafd15950"
   },
   "outputs": [
    {
     "name": "stdout",
     "output_type": "stream",
     "text": [
      "File already downloaded\n"
     ]
    }
   ],
   "source": [
    "from sklearn.metrics import roc_curve, auc\n",
    "from matplotlib import pyplot\n",
    "import os\n",
    "if os.path.isfile('test93_0_20000.npz') :\n",
    "    print (\"File already downloaded\")\n",
    "else:\n",
    "    !wget --load-cookies /tmp/cookies.txt \"https://docs.google.com/uc?export=download&confirm=$(wget --quiet --save-cookies /tmp/cookies.txt --keep-session-cookies --no-check-certificate 'https://docs.google.com/uc?export=download&id=1RhxZfiQFp7GidUS_ayJADDdQM6OfG3ye' -O- | sed -rn 's/.*confirm=([0-9A-Za-z_]+).*/\\1\\n/p')&id=1RhxZfiQFp7GidUS_ayJADDdQM6OfG3ye\" -O test93_0_20000.npz && rm -rf /tmp/cookies.txt\n",
    "  "
   ]
  },
  {
   "cell_type": "code",
   "execution_count": 2,
   "metadata": {
    "colab": {
     "base_uri": "https://localhost:8080/",
     "height": 34
    },
    "colab_type": "code",
    "executionInfo": {
     "elapsed": 370,
     "status": "ok",
     "timestamp": 1574956466966,
     "user": {
      "displayName": "Leonardo Giannini",
      "photoUrl": "",
      "userId": "17020021302640739393"
     },
     "user_tz": -60
    },
    "id": "-gmoBf8pB9tQ",
    "outputId": "899a4db0-9b4c-49cc-9bcd-74fa3989d6c0"
   },
   "outputs": [
    {
     "data": {
      "text/plain": [
       "['test93_20000_40000.npz', 'test93_0_20000.npz']"
      ]
     },
     "execution_count": 2,
     "metadata": {},
     "output_type": "execute_result"
    }
   ],
   "source": [
    "os.path.isfile('test93_0_20000.npz')\n",
    "\n",
    "import glob\n",
    "glob.glob(\"*npz\")"
   ]
  },
  {
   "cell_type": "code",
   "execution_count": 3,
   "metadata": {
    "colab": {},
    "colab_type": "code",
    "id": "siS1zBcYB_Ju"
   },
   "outputs": [],
   "source": [
    "import numpy\n",
    "\n",
    "f=numpy.load(\"test93_0_20000.npz\")\n",
    "\n",
    "dati = f[\"arr_0\"]"
   ]
  },
  {
   "cell_type": "markdown",
   "metadata": {},
   "source": [
    "Alla fine di questo processo i dati con cui lavoreremo sono immagazzinati nella variabile \"dati\""
   ]
  },
  {
   "cell_type": "code",
   "execution_count": 4,
   "metadata": {
    "colab": {
     "base_uri": "https://localhost:8080/",
     "height": 34
    },
    "colab_type": "code",
    "executionInfo": {
     "elapsed": 516,
     "status": "ok",
     "timestamp": 1574956532238,
     "user": {
      "displayName": "Leonardo Giannini",
      "photoUrl": "",
      "userId": "17020021302640739393"
     },
     "user_tz": -60
    },
    "id": "3_KdU1a7CKS1",
    "outputId": "d155335a-5d2a-445f-92d6-821ba50ed881"
   },
   "outputs": [
    {
     "data": {
      "text/plain": [
       "(20000, 52)"
      ]
     },
     "execution_count": 4,
     "metadata": {},
     "output_type": "execute_result"
    }
   ],
   "source": [
    "dati.shape"
   ]
  },
  {
   "cell_type": "markdown",
   "metadata": {},
   "source": [
    "Usando il comando \"shape\" possiamo capire la \"forma\" dei nostri dati. Nel nostro caso (20000, 52) vuol dire semplicemente che si tratta di una matrice di 20000 righe e 52 colonne. Ogni riga rappresenta un evento diverso e le 52 colonne rappresentano tutte le variabili associate a ciascun evento. Dunque in questo set sono raccolti i dati della rivelazione di 20000 jet adronici a ciascuno dei quali sono associate 52 variabili."
   ]
  },
  {
   "cell_type": "markdown",
   "metadata": {},
   "source": [
    "Proviamo ad accedere ai dati veri e propri. Se volessi conoscere il valore della prima variabile per il primo jet adronico nel set dovrei scrivere:"
   ]
  },
  {
   "cell_type": "code",
   "execution_count": 5,
   "metadata": {},
   "outputs": [
    {
     "data": {
      "text/plain": [
       "30.420133590698242"
      ]
     },
     "execution_count": 5,
     "metadata": {},
     "output_type": "execute_result"
    }
   ],
   "source": [
    "dati[0,0]"
   ]
  },
  {
   "cell_type": "markdown",
   "metadata": {},
   "source": [
    "Ricordiamo che gli indici partono sempre da 0, non da 1. Quindi in questo caso il primo indice (quello a sinistra della virgola) può assumere valori da 0 a 19999, il secondo da 0 a 51."
   ]
  },
  {
   "cell_type": "markdown",
   "metadata": {},
   "source": [
    "Se volessimo conoscere i valori di tutte le variabili associate al primo jet ci basta scrivere:"
   ]
  },
  {
   "cell_type": "code",
   "execution_count": 6,
   "metadata": {},
   "outputs": [
    {
     "data": {
      "text/plain": [
       "array([ 3.04201336e+01, -4.45303470e-01,  6.00000000e+00,  4.00000000e+00,\n",
       "        0.00000000e+00,  3.30000000e+01,  4.00000000e+00,  5.57122111e-01,\n",
       "        2.71005705e-02,  2.00000000e+00, -7.56226596e-04, -2.18061239e-01,\n",
       "       -5.92207815e-03, -9.74771321e-01,  4.00000000e+00,  0.00000000e+00,\n",
       "        2.85493946e+01, -1.58774495e-01,  5.96918249e+00,  0.00000000e+00,\n",
       "        0.00000000e+00,  0.00000000e+00,  0.00000000e+00,  0.00000000e+00,\n",
       "        0.00000000e+00,  0.00000000e+00,  0.00000000e+00,  0.00000000e+00,\n",
       "        0.00000000e+00,  1.00000000e+00,  0.00000000e+00,  0.00000000e+00,\n",
       "        0.00000000e+00,  0.00000000e+00,  0.00000000e+00,  0.00000000e+00,\n",
       "        0.00000000e+00,  0.00000000e+00,  0.00000000e+00,  0.00000000e+00,\n",
       "        0.00000000e+00,  0.00000000e+00,  1.00000000e+00,  0.00000000e+00,\n",
       "        0.00000000e+00,  0.00000000e+00,  0.00000000e+00,  0.00000000e+00,\n",
       "        1.00000000e+00,  0.00000000e+00,  2.10000000e+01,  0.00000000e+00])"
      ]
     },
     "execution_count": 6,
     "metadata": {},
     "output_type": "execute_result"
    }
   ],
   "source": [
    "dati[0,:]"
   ]
  },
  {
   "cell_type": "markdown",
   "metadata": {},
   "source": [
    "In questo caso il risultato ovviamente non è un numero ma un vettore di 52 elementi"
   ]
  },
  {
   "cell_type": "markdown",
   "metadata": {},
   "source": [
    "I \":\" indicano che voglio selezionare tutti i valori possibili dell'indice in questione. Più in generale vengono utilizzati per indicare un intervallo di valori che voglio selezionare, per esempio se volessi conoscere i valori delle variabili dalla decima alla ventesima per il primo jet dovrei scrivere:"
   ]
  },
  {
   "cell_type": "code",
   "execution_count": 7,
   "metadata": {},
   "outputs": [
    {
     "data": {
      "text/plain": [
       "array([ 2.00000000e+00, -7.56226596e-04, -2.18061239e-01, -5.92207815e-03,\n",
       "       -9.74771321e-01,  4.00000000e+00,  0.00000000e+00,  2.85493946e+01,\n",
       "       -1.58774495e-01,  5.96918249e+00,  0.00000000e+00])"
      ]
     },
     "execution_count": 7,
     "metadata": {},
     "output_type": "execute_result"
    }
   ],
   "source": [
    "dati[0,9:20]"
   ]
  },
  {
   "cell_type": "markdown",
   "metadata": {},
   "source": [
    "Attenzione:\n",
    "* Gli indici partono da 0\n",
    "* Per convenzione l'indice a sinistra dei due punti viene compreso nel conteggio, quello a destra viene escluso<br>\n",
    "Dunque scrivendo \"9:20\" sto chiedendo di prendere gli indici 9,10,11,12,13,14,15,16,17,18,19 che corrispondono alle variabili dalla decima alla ventesima (entrambe comprese)."
   ]
  },
  {
   "cell_type": "markdown",
   "metadata": {},
   "source": [
    "__Provare a farsi restituire il valore della variabile 50 per tutti i jet dal cinquantesimo al centesimo__"
   ]
  },
  {
   "cell_type": "markdown",
   "metadata": {
    "colab_type": "text",
    "id": "tGOfKm_vca_R"
   },
   "source": [
    "# Significato delle variabili\n",
    "\n",
    "Ovviamente non entreremo nel dettaglio sul significato delle singole variabili. Per i nostri scopi ci è sufficiente sapere che queste sono divise in 8 categorie e per ora ci interesseremo solo delle variabili nella prima, nella terza e nella settima.\n",
    "\n",
    "* Prima categoria:\n",
    "Contiene le variabili cinematiche, ovvero:<br>\n",
    "0 - Impulso trasverso del jet (\"jet_pt\")<br>\n",
    "1 - Rapidità del jet (\"jet_eta\")\n",
    "* Terza categoria:\n",
    "Contiene le variabili da 7 a 15, ovvero le cosiddette \"variabili discriminanti del b-tagging\". Come visto a lezione i b-jet hanno delle caratteristiche che ci permettono di distinguerli dagli altri, tra queste l'ampiezza, il numero di particelle in essi contenute e alcune altre. Queste caratteristiche sono quelle rappresentate da queste variabili le quali sono quindi le più indicate per essere analizzate e sperare che ci diano informazioni sulla natura del jet.\n",
    "* Settima categoria:\n",
    "Contiene una variabile, la 50, ovvero la \"truth as integer\" traducibile in \"verità come intero\". Si tratta della variabile che identifica ogni singolo jet in una delle categorie viste a lezione.\n",
    "\n",
    "Lo scopo di questo notebook sarà di scoprire quale delle variabili discriminanti è più efficace nel suo mestiere. Ovvero quale ci permette di separare più efficacemente i b-jet da jet di altri tipi."
   ]
  },
  {
   "cell_type": "markdown",
   "metadata": {
    "colab_type": "text",
    "id": "BCbKdp59gYTI"
   },
   "source": [
    "# Istogramma della popolazione"
   ]
  },
  {
   "cell_type": "markdown",
   "metadata": {},
   "source": [
    "Concentriamoci per ora sulla variabile 50. Questa assegna a ciascun jet un numero intero pari a 1, 4, 5 o 21. I quali significacno rispettivamente:\n",
    "* 1 = jet leggero\n",
    "* 4 = c-jet\n",
    "* 5 = b-jet\n",
    "* 21 = jet gluonico<br>\n",
    "Questo significa che, per esempio, se scrivo:"
   ]
  },
  {
   "cell_type": "code",
   "execution_count": 8,
   "metadata": {},
   "outputs": [
    {
     "data": {
      "text/plain": [
       "21.0"
      ]
     },
     "execution_count": 8,
     "metadata": {},
     "output_type": "execute_result"
    }
   ],
   "source": [
    "dati[0,50]"
   ]
  },
  {
   "cell_type": "markdown",
   "metadata": {},
   "source": [
    "Avendo ottenuto 21 so che il primo jet del set è un jet gluonico."
   ]
  },
  {
   "cell_type": "markdown",
   "metadata": {},
   "source": [
    "Se voglio avere un'idea di quanti jet ci sono nel mio set per ogni categoria non devo fare altro che un istogramma della variabile 50 per tutti i jet del set.\n",
    "Lo faccio sfruttando una funzione della libreria pyplot:"
   ]
  },
  {
   "cell_type": "code",
   "execution_count": 9,
   "metadata": {
    "colab": {
     "base_uri": "https://localhost:8080/",
     "height": 334
    },
    "colab_type": "code",
    "executionInfo": {
     "elapsed": 1322,
     "status": "ok",
     "timestamp": 1574956632448,
     "user": {
      "displayName": "Leonardo Giannini",
      "photoUrl": "",
      "userId": "17020021302640739393"
     },
     "user_tz": -60
    },
    "id": "C84rJf0dCUGY",
    "outputId": "82735ed2-0da7-4db3-e05c-5c5b758772c9"
   },
   "outputs": [
    {
     "data": {
      "image/png": "[encoded data removed]",
      "text/plain": [
       "<Figure size 432x288 with 1 Axes>"
      ]
     },
     "metadata": {
      "needs_background": "light"
     },
     "output_type": "display_data"
    }
   ],
   "source": [
    "pyplot.hist(dati[:,50])\n",
    "pyplot.show()"
   ]
  },
  {
   "cell_type": "markdown",
   "metadata": {},
   "source": [
    "__Cosa deduco guardando l'istogramma?__"
   ]
  },
  {
   "cell_type": "markdown",
   "metadata": {
    "colab_type": "text",
    "id": "reu7NYzgglmx"
   },
   "source": [
    "# Dividere i dati in categorie"
   ]
  },
  {
   "cell_type": "markdown",
   "metadata": {},
   "source": [
    "Ci sarebbe comodo dividere il set \"dati\" in 4 categorie diverse in modo da poter accedere facilmente a tutti i b-jet, tutti i c-jet eccetera. Per farlo ci serviremo di una sintassi in python che ci permette di selezionare delle porzioni di un set di dati."
   ]
  },
  {
   "cell_type": "markdown",
   "metadata": {},
   "source": [
    "Cerchiamo di capire cosa otteniamo col codice nella cella seguente:"
   ]
  },
  {
   "cell_type": "code",
   "execution_count": 10,
   "metadata": {},
   "outputs": [
    {
     "data": {
      "text/plain": [
       "array([[144.63471985,  -1.22798944,   8.        , ...,   0.        ,\n",
       "          1.        ,   1.        ],\n",
       "       [ 65.54579163,   0.80091989,   5.        , ...,   0.        ,\n",
       "          1.        ,   1.        ],\n",
       "       [ 62.18005753,  -0.2915546 ,   7.        , ...,   0.        ,\n",
       "          1.        ,   0.        ],\n",
       "       ...,\n",
       "       [ 42.61270905,  -0.5203647 ,   4.        , ...,   0.        ,\n",
       "          1.        ,   1.        ],\n",
       "       [ 46.75649261,  -0.86630964,   7.        , ...,   0.        ,\n",
       "          1.        ,   0.        ],\n",
       "       [ 44.055233  ,   1.47807074,   9.        , ...,   0.        ,\n",
       "          1.        ,   0.        ]])"
      ]
     },
     "execution_count": 10,
     "metadata": {},
     "output_type": "execute_result"
    }
   ],
   "source": [
    "dati[dati[:,50]==1]"
   ]
  },
  {
   "cell_type": "markdown",
   "metadata": {},
   "source": [
    "Teniamo presente che ogni volta che mettiamo le parentesi quadre dopo il nome di un set stiamo essenzialmente ponendo una condizione e vogliamo che il codice ci restituisca solo la porzione del set originale che soddisfa la condizione tra parentesi.\n",
    "In questo caso la condizione è: \"dati[:,50]==1\" il ché vuol dire che, partendo da tutti i 20000 jet, voglio che il codice mi restituisca solo quelli per cui la variabile 50 abbia valore 1, ovvero solo i jet leggeri. Possiamo usare lo stesso metodo per le altre categorie e scrivere quindi:"
   ]
  },
  {
   "cell_type": "code",
   "execution_count": 11,
   "metadata": {},
   "outputs": [],
   "source": [
    "jet_leggeri = dati[dati[:,50]==1]\n",
    "c_jet = dati[dati[:,50]==4]\n",
    "b_jet = dati[dati[:,50]==5]\n",
    "jet_gluonici = dati[dati[:,50]==21]"
   ]
  },
  {
   "cell_type": "markdown",
   "metadata": {},
   "source": [
    "Usando il comando \"shape\" su questi set possiamo sapere esattamente quanti jet di ogni categoria ci sono nel set di partenza.<br>\n",
    "__Provare e verificare che il totale ammonti a 20000.__"
   ]
  },
  {
   "cell_type": "markdown",
   "metadata": {},
   "source": [
    "A questo punto è possibile creare un istogramma più esplicito:"
   ]
  },
  {
   "cell_type": "code",
   "execution_count": 12,
   "metadata": {
    "colab": {
     "base_uri": "https://localhost:8080/",
     "height": 282
    },
    "colab_type": "code",
    "executionInfo": {
     "elapsed": 1228,
     "status": "ok",
     "timestamp": 1574956678454,
     "user": {
      "displayName": "Leonardo Giannini",
      "photoUrl": "",
      "userId": "17020021302640739393"
     },
     "user_tz": -60
    },
    "id": "ANrI6FwUCVW3",
    "outputId": "53fc398c-a346-44d6-b61d-43222e476695"
   },
   "outputs": [
    {
     "data": {
      "image/png": "[encoded data removed]",
      "text/plain": [
       "<Figure size 432x288 with 1 Axes>"
      ]
     },
     "metadata": {
      "needs_background": "light"
     },
     "output_type": "display_data"
    }
   ],
   "source": [
    "bins=range(0,24)\n",
    "pyplot.hist(jet_gluonici[:,50], color=\"blue\", bins=bins, label=\"jet gluonici\")\n",
    "pyplot.hist(b_jet[:,50], color=\"red\", bins=bins, label=\"b jet\")\n",
    "pyplot.hist(c_jet[:,50], color=\"green\", bins=bins, label=\"c jet\")\n",
    "pyplot.hist(jet_leggeri[:,50], color=\"cyan\", bins=bins, label=\"jet leggeri\")\n",
    "pyplot.legend()\n",
    "pyplot.show()"
   ]
  },
  {
   "cell_type": "markdown",
   "metadata": {
    "colab_type": "text",
    "id": "gaQtWurCgrDj"
   },
   "source": [
    "# Grafici delle variabili per categoria\n",
    "\n",
    "Vogliamo costruire la funzione che useremo per i grafici, ma prima dobbiamo definire i seguenti vettori:"
   ]
  },
  {
   "cell_type": "code",
   "execution_count": 13,
   "metadata": {},
   "outputs": [],
   "source": [
    "isB=dati[:,50]==5\n",
    "isC=dati[:,50]==4\n",
    "isL=dati[:,50]==1\n",
    "isG=dati[:,50]==21"
   ]
  },
  {
   "cell_type": "markdown",
   "metadata": {},
   "source": [
    "Il significato di questi vettori verrà spiegato in seguito.<br>\n",
    "OSS: Non ci soffermiamo sul codice con cui definiamo la funzione \"grafico\" in quanto è complicato e poco istruttivo."
   ]
  },
  {
   "cell_type": "code",
   "execution_count": 14,
   "metadata": {
    "colab": {},
    "colab_type": "code",
    "id": "hMQL3Ka3Cfdy"
   },
   "outputs": [],
   "source": [
    "def grafico(  dati, categories=[isB, isC, isL, isG], labels=[\"b jet\",\"c jet\",\"jet leggeri\",\"jet gluonici\"], colors=[\"red\",\"green\",\"cyan\",\"blue\"], name=\"valori della variabile\", log=False, mybins=None, normalizzata=False ):\n",
    "\n",
    "    mean=numpy.mean(dati)\n",
    "    stdev=numpy.std(dati)\n",
    "    lenbin=stdev/(len(dati)**0.5)    \n",
    "    \n",
    "    if (lenbin==0) :\n",
    "        return\n",
    "    \n",
    "    binning=numpy.arange(mean-2*stdev, mean+2*stdev, lenbin*10)    \n",
    "    if mybins is not None:\n",
    "      binning=mybins\n",
    "\n",
    "    pyplot.clf()\n",
    "    \n",
    "    for i in range(len(categories)):\n",
    "        cat=categories[i]\n",
    "        color=colors[i]\n",
    "        label=labels[i]\n",
    "        \n",
    "        if normalizzata == True:\n",
    "            pyplot.hist(dati[cat], color=color, label=label, histtype='step', bins=binning, log=log, density=True)\n",
    "            pyplot.ylabel(\"molteplicità dello stesso valore (normalizzata)\")\n",
    "        else: \n",
    "            pyplot.hist(dati[cat], color=color, label=label, histtype='step', bins=binning, log=log)\n",
    "            pyplot.ylabel(\"molteplicità dello stesso valore\")\n",
    "\n",
    "    pyplot.legend()\n",
    "    pyplot.xlabel(name)\n",
    "    pyplot.savefig(name+\".png\")\n",
    "    "
   ]
  },
  {
   "cell_type": "markdown",
   "metadata": {},
   "source": [
    "Per fare un grafico di qualunque variabile divisa per categoria basta scrivere:"
   ]
  },
  {
   "cell_type": "code",
   "execution_count": 15,
   "metadata": {},
   "outputs": [
    {
     "data": {
      "image/png": "[encoded data removed]",
      "text/plain": [
       "<Figure size 432x288 with 1 Axes>"
      ]
     },
     "metadata": {
      "needs_background": "light"
     },
     "output_type": "display_data"
    }
   ],
   "source": [
    "grafico(dati[:,0])"
   ]
  },
  {
   "cell_type": "markdown",
   "metadata": {},
   "source": [
    "Dove in questo caso abbiamo graficato l'impulso trasverso (variabile 0). Per graficare qualunque altra variabile basta sostituire \"0\" con il numero corrispondente."
   ]
  },
  {
   "cell_type": "markdown",
   "metadata": {},
   "source": [
    "Dal grafico qui sopra possiamo notare che le 4 curve per le 4 categorie sembrano essere ciascuna una copia scalata dell'altra, dove la scala è data dalla popolosità della categoria rappresentata. In particolare la categoria dei jet gluonici è la più popolosa e infatti la figura blu è la più alta. Quello che è importante è che, a parte per l'altezza, le 4 figure sembrano non differire più di tanto nella forma e questo può solo significare che la variabile in questione (\"jet_pt\") assume valori che non dipendono dalla categoria di appartenenza del jet e dunque non è una buona variabile discriminante. Questo si nota facilmente se mostriamo un grafico normalizzato, ovvero in cui l'area sottesa da tutte e 4 le curve è pari a 1 (in questo caso si perde l'informazione sulla popolosità delle categorie e rimane solo la forma di distribuzione della variabile):"
   ]
  },
  {
   "cell_type": "code",
   "execution_count": 16,
   "metadata": {},
   "outputs": [
    {
     "data": {
      "image/png": "[encoded data removed]",
      "text/plain": [
       "<Figure size 432x288 with 1 Axes>"
      ]
     },
     "metadata": {
      "needs_background": "light"
     },
     "output_type": "display_data"
    }
   ],
   "source": [
    "grafico(dati[:,0], normalizzata=True)"
   ]
  },
  {
   "cell_type": "markdown",
   "metadata": {},
   "source": [
    "Vediamo che le 4 curve sembrano una ricalcare l'altra, a sostegno della tesi esplicitata poco fa."
   ]
  },
  {
   "cell_type": "markdown",
   "metadata": {},
   "source": [
    "__Provare a fare il grafico per la rapidità. Cosa concludiamo da quest'ultimo?__"
   ]
  },
  {
   "cell_type": "markdown",
   "metadata": {
    "colab_type": "text",
    "id": "tJ3UBe2qiKvs"
   },
   "source": [
    "# Grafici di variabili discriminanti\n",
    "\n",
    "In questa sezione (e per il resto del notebook) ci concentreremo sulle variabili 11,13,14,15 in quanto sono quelle per cui è più facile dedurre il potere discriminante guardando i grafici. Le altre variabili della categoria hanno infatti valori troppo vicini tra di loro per ciascun jet e questo impone che all'interno dell'istogramma tutti i valori rientrano nella stessa suddivisione. Per esempio:"
   ]
  },
  {
   "cell_type": "code",
   "execution_count": 17,
   "metadata": {},
   "outputs": [
    {
     "data": {
      "image/png": "[encoded data removed]",
      "text/plain": [
       "<Figure size 432x288 with 1 Axes>"
      ]
     },
     "metadata": {
      "needs_background": "light"
     },
     "output_type": "display_data"
    }
   ],
   "source": [
    "grafico(dati[:,7])"
   ]
  },
  {
   "cell_type": "markdown",
   "metadata": {},
   "source": [
    "Il problema si potrebbe risolvere cambiando manualmente la suddivisione, ma per evitare di complicare troppo le cose ci concentriamo sulle altre variabili."
   ]
  },
  {
   "cell_type": "code",
   "execution_count": 18,
   "metadata": {
    "colab": {
     "base_uri": "https://localhost:8080/",
     "height": 279
    },
    "colab_type": "code",
    "executionInfo": {
     "elapsed": 1172,
     "status": "ok",
     "timestamp": 1574956958360,
     "user": {
      "displayName": "Leonardo Giannini",
      "photoUrl": "",
      "userId": "17020021302640739393"
     },
     "user_tz": -60
    },
    "id": "7lyrXZjbDmCd",
    "outputId": "8575c158-e300-44a6-b1a1-624ee7ba6856"
   },
   "outputs": [
    {
     "data": {
      "image/png": "[encoded data removed]",
      "text/plain": [
       "<Figure size 432x288 with 1 Axes>"
      ]
     },
     "metadata": {
      "needs_background": "light"
     },
     "output_type": "display_data"
    }
   ],
   "source": [
    "grafico(dati[:,11],normalizzata=True)"
   ]
  },
  {
   "cell_type": "markdown",
   "metadata": {},
   "source": [
    "Per aumentare la risoluzione della zona del grafico che ci interessa possiamo applicare all'asse y una scala logaritmica in questo modo:"
   ]
  },
  {
   "cell_type": "code",
   "execution_count": 19,
   "metadata": {},
   "outputs": [
    {
     "data": {
      "image/png": "[encoded data removed]",
      "text/plain": [
       "<Figure size 432x288 with 1 Axes>"
      ]
     },
     "metadata": {
      "needs_background": "light"
     },
     "output_type": "display_data"
    }
   ],
   "source": [
    "grafico(dati[:,11],normalizzata=True,log=True)"
   ]
  },
  {
   "cell_type": "markdown",
   "metadata": {},
   "source": [
    "Da quest'ultimo grafico si nota che, a differenza dei grafici dell'impulso trasverso e della rapidità, la figura rossa è spostata leggermente verso destra rispetto a tutte le altre. Questo ci da un indizio sul fatto che questa variabile sia effettivamente dipendente dalla categoria di appartenenza del jet e in particolare dal fatto che questo sia un b-jet o meno."
   ]
  },
  {
   "cell_type": "markdown",
   "metadata": {},
   "source": [
    "__Provare a fare i grafici per le altre variabili consigliate e trarre le conclusioni. Quale ci aspettiamo (ad occhio) che sia la variabile che discrimini meglio i b-jet dagli altri?__"
   ]
  },
  {
   "cell_type": "markdown",
   "metadata": {},
   "source": [
    "# L'algoritmo di discriminazione  (preliminari)"
   ]
  },
  {
   "cell_type": "markdown",
   "metadata": {},
   "source": [
    "Per comprendere quello che viene dopo perdiamo un po' di tempo nello studiare una sintassi particolare in python, ci torneranno utili i vettori isB, isC, isL, isG definiti qualche cella più sopra.<br>\n",
    "Attenzione: tenere presente che, nelle celle che seguono, l'aggiunta della scrittura \"[:20]\" è puramente una questione di praticità in quanto consente di visualizzare i primi 20 elementi dei vettori considerati."
   ]
  },
  {
   "cell_type": "markdown",
   "metadata": {},
   "source": [
    "isB è un vettore di 20000 elementi, come il numero di jet nel set. Il valore booleano (True o False) all'indice n indica se il jet n-esimo è un b-jet (True) o no (False):"
   ]
  },
  {
   "cell_type": "code",
   "execution_count": 20,
   "metadata": {
    "scrolled": true
   },
   "outputs": [
    {
     "data": {
      "text/plain": [
       "array([False, False, False,  True, False,  True, False, False, False,\n",
       "       False, False, False, False, False, False,  True, False, False,\n",
       "       False, False])"
      ]
     },
     "execution_count": 20,
     "metadata": {},
     "output_type": "execute_result"
    }
   ],
   "source": [
    "isB[:20]"
   ]
  },
  {
   "cell_type": "markdown",
   "metadata": {},
   "source": [
    "Stessa cosa per isC con i c-jet, isL con i jet leggeri e isG con i jet gluonici:"
   ]
  },
  {
   "cell_type": "code",
   "execution_count": 21,
   "metadata": {},
   "outputs": [
    {
     "data": {
      "text/plain": [
       "array([False, False, False, False, False, False, False, False, False,\n",
       "       False,  True, False, False, False, False, False, False, False,\n",
       "       False, False])"
      ]
     },
     "execution_count": 21,
     "metadata": {},
     "output_type": "execute_result"
    }
   ],
   "source": [
    "isC[:20]"
   ]
  },
  {
   "cell_type": "markdown",
   "metadata": {},
   "source": [
    "In python due valori booleani si possono sommare tra loro con queste regole: \n",
    "* False + False = False\n",
    "* False + True = True\n",
    "* True + True = True<br>\n",
    "Si ricordi inoltre che la somma di due vettori avviene elemento per elemento.<br>\n",
    "Dunque nell'esempio seguente il valore booleano all'indice n indica che: \n",
    "* il jet n-esimo è un b-jet o un c-jet (True)\n",
    "* il jet n-esimo NON è né un b-jet né un c-jet (False)"
   ]
  },
  {
   "cell_type": "code",
   "execution_count": 22,
   "metadata": {},
   "outputs": [
    {
     "data": {
      "text/plain": [
       "array([False, False, False,  True, False,  True, False, False, False,\n",
       "       False,  True, False, False, False, False,  True, False, False,\n",
       "       False, False])"
      ]
     },
     "execution_count": 22,
     "metadata": {},
     "output_type": "execute_result"
    }
   ],
   "source": [
    "(isB+isC)[:20]"
   ]
  },
  {
   "cell_type": "markdown",
   "metadata": {},
   "source": [
    "Come detto prima, tra parentesi quadre c'è sempre una condizione. Nell'esempio che segue, la condizione è \"isB\", dunque il seguente è lo stesso vettore dell'inizio che però comprende soltanto gli eventi classificati come b-jet (infatti ha solo 2377 elementi: __verificare__), i quali sono ovviamente tutti b-jet e quindi hanno tutti valore booleano True:"
   ]
  },
  {
   "cell_type": "code",
   "execution_count": 23,
   "metadata": {},
   "outputs": [
    {
     "data": {
      "text/plain": [
       "array([ True,  True,  True,  True,  True,  True,  True,  True,  True,\n",
       "        True,  True,  True,  True,  True,  True,  True,  True,  True,\n",
       "        True,  True])"
      ]
     },
     "execution_count": 23,
     "metadata": {},
     "output_type": "execute_result"
    }
   ],
   "source": [
    "isB[isB][:20]"
   ]
  },
  {
   "cell_type": "markdown",
   "metadata": {},
   "source": [
    "__Dunque se scrivessi: isB[isC] cosa mi aspetterei?__"
   ]
  },
  {
   "cell_type": "markdown",
   "metadata": {},
   "source": [
    "Quindi il vettore che segue è lo stesso vettore di partenza ma comprende solo gli eventi classificati come b-jet (i quali hanno valore True) o come c-jet (i quali hanno valore False):"
   ]
  },
  {
   "cell_type": "code",
   "execution_count": 24,
   "metadata": {},
   "outputs": [
    {
     "data": {
      "text/plain": [
       "array([ True,  True, False,  True,  True, False, False,  True,  True,\n",
       "        True,  True, False,  True,  True,  True,  True, False,  True,\n",
       "       False, False])"
      ]
     },
     "execution_count": 24,
     "metadata": {},
     "output_type": "execute_result"
    }
   ],
   "source": [
    "isB[isB+isC][:20]"
   ]
  },
  {
   "cell_type": "markdown",
   "metadata": {},
   "source": [
    "__E il vettore isB[isB+isL+isG] che cos'è? Quanti elementi ha?__"
   ]
  },
  {
   "cell_type": "markdown",
   "metadata": {},
   "source": [
    "Definiamoli esplicitamente:"
   ]
  },
  {
   "cell_type": "code",
   "execution_count": 25,
   "metadata": {},
   "outputs": [],
   "source": [
    "isBvsC = isB[isB+isC]\n",
    "isBvsLG = isB[isB+isL+isG]"
   ]
  },
  {
   "cell_type": "markdown",
   "metadata": {},
   "source": [
    "Abbiamo chiamato i due vettori in questo modo in quanto il primo ci discrimina i b-jet _rispetto_ (vs) ai c-jet. Il secondo discrimina i b-jet rispetto ai jet leggeri e ai gluonici. Mentre il vettore isB discrimina i b-jet rispetto a qualunque altro tipo di jet."
   ]
  },
  {
   "cell_type": "markdown",
   "metadata": {},
   "source": [
    "Ricapitolando:\n",
    "* isB è un vettore di 20000 elementi composto da valori booleani, se all'indice n il valore \"isB[n]\" è _False_ allora il jet n NON è un b-jet, se è True allora lo è;\n",
    "* isBvsC è un vettore di 4409 elementi in quanto comprende solo quelli classificati o come b-jet o come c-jet: se all'indice n il valore \"isBvsC[n]\" è _False_ allora il jet n è un c-jet, se è _True_ allora è un b-jet;\n",
    "* isBvsLG comprende i b-jet, i jet leggeri e i gluonici: se all'indice n il valore \"isBvsLG[n]\" è _False_ allora il jet n è un jet leggero o un jet gluonico, se è _True_ allora è un b-jet."
   ]
  },
  {
   "cell_type": "markdown",
   "metadata": {},
   "source": [
    "Abbiamo creato questi tre vettori diversi in quanto vogliamo capire quale dei seguenti compiti è più difficile:<br>\n",
    "- Distinguere i b-jet da qualunque altro tipo di jet\n",
    "- Distinguere i b-jet dai c-jet\n",
    "- Distinguere i b-jet dai jet leggeri e gluonici"
   ]
  },
  {
   "cell_type": "markdown",
   "metadata": {},
   "source": [
    "__In base a cosa abbiamo detto nella teoria, cosa ci aspettiamo?__"
   ]
  },
  {
   "cell_type": "markdown",
   "metadata": {},
   "source": [
    "# Curve ROC e AUC"
   ]
  },
  {
   "cell_type": "markdown",
   "metadata": {},
   "source": [
    "Scriviamo prima il codice dell'algoritmo utilizzando come variabile discriminante la numero 11:"
   ]
  },
  {
   "cell_type": "code",
   "execution_count": 26,
   "metadata": {
    "colab": {
     "base_uri": "https://localhost:8080/",
     "height": 34
    },
    "colab_type": "code",
    "executionInfo": {
     "elapsed": 1242,
     "status": "ok",
     "timestamp": 1574957228782,
     "user": {
      "displayName": "Leonardo Giannini",
      "photoUrl": "",
      "userId": "17020021302640739393"
     },
     "user_tz": -60
    },
    "id": "MSlKSoPTwrtq",
    "outputId": "b978567a-5b94-4b1d-e530-47d23fd1e971"
   },
   "outputs": [],
   "source": [
    "# B vs TUTTI\n",
    "\n",
    "fpr, tpr, soglia = roc_curve(isB,dati[:,11])\n",
    "auc1 = auc(fpr, tpr)\n",
    "\n",
    "# B vs c\n",
    "\n",
    "fpr2, tpr2, soglia2 = roc_curve(isBvsC,dati[:,11][isB+isC])\n",
    "auc2 = auc(fpr2, tpr2)\n",
    "\n",
    "# B vs leggeri e gluonici\n",
    "\n",
    "fpr3, tpr3, soglia3 = roc_curve(isBvsLG, dati[:,11][isB+isL+isG])\n",
    "auc3 = auc(fpr3, tpr3)"
   ]
  },
  {
   "cell_type": "markdown",
   "metadata": {},
   "source": [
    "### Il caso b vs tutti"
   ]
  },
  {
   "cell_type": "markdown",
   "metadata": {},
   "source": [
    "Per capire come funziona l'algoritmo analizziamo prima il caso b vs tutti. Visualizziamo per prima cosa il vettore \"soglia\" che ci viene restituito:"
   ]
  },
  {
   "cell_type": "code",
   "execution_count": 27,
   "metadata": {},
   "outputs": [
    {
     "data": {
      "text/plain": [
       "(2744,)"
      ]
     },
     "execution_count": 27,
     "metadata": {},
     "output_type": "execute_result"
    }
   ],
   "source": [
    "soglia.shape"
   ]
  },
  {
   "cell_type": "code",
   "execution_count": 28,
   "metadata": {},
   "outputs": [
    {
     "data": {
      "text/plain": [
       "array([41.10481262, 40.10481262, 27.75101662, 26.91142273, 20.77487183,\n",
       "       20.62183952, 17.18819618, 17.15910149, 17.02704048, 17.02688789,\n",
       "       16.49670792, 16.48767662, 12.66849899, 12.61098862, 11.32164288,\n",
       "       11.3081913 , 11.21467113, 11.19307518, 10.64703846, 10.64122581])"
      ]
     },
     "execution_count": 28,
     "metadata": {},
     "output_type": "execute_result"
    }
   ],
   "source": [
    "soglia[:20]"
   ]
  },
  {
   "cell_type": "code",
   "execution_count": 29,
   "metadata": {},
   "outputs": [
    {
     "data": {
      "text/plain": [
       "array([  -7.97987986,   -8.84355068,   -9.10871029,   -9.30560589,\n",
       "        -10.1924324 ,  -10.19857216,  -10.39178848,  -11.15960217,\n",
       "        -11.52142143,  -11.54287052,  -12.72215271,  -13.31455231,\n",
       "        -15.60561466,  -16.61683464,  -18.15948868,  -19.9670639 ,\n",
       "        -20.31702995,  -26.25210953,  -30.22772789, -999.        ])"
      ]
     },
     "execution_count": 29,
     "metadata": {},
     "output_type": "execute_result"
    }
   ],
   "source": [
    "soglia[-20:] # Scrittura analoga a \"soglia[2724:]\" -> Seleziona solo gli ultimi 20 elementi"
   ]
  },
  {
   "cell_type": "markdown",
   "metadata": {},
   "source": [
    "La soglia parte da un valore arbitrario maggiore del valore massimo assunto dalla variabile discriminante utilizzata nell'algoritmo:<br>\n",
    "max(soglia) = soglia[0] > max(data[:,11])<br>\n",
    "Inoltre i suoi valori sono strettamente decrescenti e l'ultimo elemento è minore del valore minimo assunto dalla variabile discriminante:<br>\n",
    "min(soglia) = soglia[2744] < min(data[:,11])<br>"
   ]
  },
  {
   "cell_type": "markdown",
   "metadata": {},
   "source": [
    "L'algoritmo in se è composto in questo caso da 2744 step, corrispondente al numero di elementi nel vettore soglia. Al primo step:\n",
    "* Si prende il valore del primo elemento di soglia, nel nostro caso 41.105;\n",
    "* Si mette a confronto questo numero con TUTTI i valori contenuti nel vettore \"data[:,11]\";\n",
    "* Ogni valore del vettore che sia maggiore di 41.105 viene etichettato come \"positivo\";\n",
    "* Ogni valore del vettore che sia minore di 41.105 viene etichettato come \"negativo\";<br>\n",
    "\"positivo\" e \"negativo\" vanno pensate come ipotesi: un valore etichettato come positvo è un valore che si ipotizza essere associato a un b-jet, un valore etichettato come negativo si ipotizza NON essere associato a un b-jet.<br>\n",
    "Essendo che il primo valore di soglia è per costruzione maggiore di qualunque valore all'interno di data[:,11], segue che al primo step ogni valore verrà etichettato come negativo.<br>\n",
    "L'algoritmo prosegue step dopo step prendendo ogni volta l'elemento di soglia successivo, e etichettando ad ogni step tutti i valori in data[:,11] come positivi o negativi.<br>\n",
    "Naturalmente, essendo che l'ultimo valore di soglia è minore di ogni valore in data[:,11], all'ultimo step tutti gli elementi in data[:,11] verranno etichettati come positivi.<br>"
   ]
  },
  {
   "cell_type": "markdown",
   "metadata": {},
   "source": [
    "### Confronto ipotesi con verità\n",
    "All'interno di ogni step, dopo la fase di separazione in positivi e negativi, ci ritroviamo con un vettore di elementi booleani (in questo caso il vettore avrà 20000 elementi in quanto siamo nella situazione b vs tutti), chiamiamo questo vettore \"ipotesi\". Il valore ipotesi[n] corrisponde appunto all'ipotesi sul fatto che il jet n-esimo sia un b-jet o meno. Questo valore andrà confrontato con qualcosa, ovvero con il valore isB[n] che corrisponde alla verità sul jet n-esimo. Infatti un valore True di isB[n] ci indica che il jet n-esimo è un b-jet e viceversa.<br>\n",
    "Confrontando il valore ipotesi[n] col valore isB[n] possono risultare i seguenti casi:\n",
    "* ipotesi[n] = isB[n] = True -> Vero Positivo (_True Positive_), ovvero abbiamo ipotizzato correttamente che il jet n-esimo fosse un b-jet;\n",
    "* ipotesi[n] = isB[n] = False -> Vero Negativo (_True Negative_), ovvero abbiamo ipotizzato correttamente che il jet n-esimo NON fosse un b-jet;\n",
    "* ipotesi[n] = True, isB[n] = False -> Falso Positivo (_False Positive_), ovvero abbiamo ipotizzato che il jet n-esimo fosse un b-jet mentre in realtà non lo è;\n",
    "* ipotesi[n] = False, isB[n] = True -> Falso Negativo (_False Negative_), ovvero abbiamo ipotizzato che il jet n-esimo NON fosse un b-jet mentre in realtà lo è.<br>\n",
    "A ogni step andranno fatti tutti i 20000 confronti (per n che va da 0 a 19999)."
   ]
  },
  {
   "cell_type": "markdown",
   "metadata": {},
   "source": [
    "_Il discorso è analogo per tutti gli altri casi (B vs C, B vs LG) con la differenza che il vettore ipotesi e il vettore verità avranno meno di 20000 elementi._"
   ]
  },
  {
   "cell_type": "markdown",
   "metadata": {},
   "source": [
    "### Costruire la curva ROC\n",
    "La curva ROC (receiver operating characteristic) è un grafico che ha sulle ascisse il _numero di falsi positivi diviso per il numero totale di negativi_ (totale negativi = veri negativi + falsi positivi) detto anche false positive rate o fpr, e sulle ordinate il _numero di veri positivi diviso per il numero totale di positivi_ (totale positivi = veri positivi + falsi negativi) detto anche true positive rate o tpr. La ROC si costruisce nel nostro caso (come detto in precedenza) in 2744 step, ogni step corrisponde a un valore di soglia diverso:\n",
    "* Si parte dal primo valore di soglia;\n",
    "* Si segna sul grafico il punto che corrisponde al numero di veri positivi e falsi positivi ottenuti con tale valore di soglia;<br>\n",
    "Osservazione: il primo valore di soglia è tale per cui non si avrà nemmeno un falso positivo e nemmeno un vero positivo (in quanto nessun valore sarà ipotizzato come positivo), dunque il primo punto sarà sempre in (0,0).\n",
    "* Si procede così per tutti gli altri valori di soglia segnando punto per punto, per poi unire tutti i punti.<br>\n",
    "Osservazione: l'ultimo valore di soglia è tale per cui tutti i jet vengono etichettati come positivi, dunque tutti i negativi vengono erroneamente ipotizzati positivi e tutti i positivi vengono correttamente ipotizzati positivi, quindi l'ultimo punto sarà sempre in (1,1)."
   ]
  },
  {
   "cell_type": "markdown",
   "metadata": {},
   "source": [
    "Ecco la curva ROC creata dall'algoritmo precedente:"
   ]
  },
  {
   "cell_type": "code",
   "execution_count": 30,
   "metadata": {
    "colab": {
     "base_uri": "https://localhost:8080/",
     "height": 300
    },
    "colab_type": "code",
    "executionInfo": {
     "elapsed": 716,
     "status": "ok",
     "timestamp": 1574957233274,
     "user": {
      "displayName": "Leonardo Giannini",
      "photoUrl": "",
      "userId": "17020021302640739393"
     },
     "user_tz": -60
    },
    "id": "nUxenbcsAnUA",
    "outputId": "d73befec-5ad3-4690-8fa9-c7d75bc77cac"
   },
   "outputs": [
    {
     "data": {
      "image/png": "[encoded data removed]",
      "text/plain": [
       "<Figure size 432x288 with 1 Axes>"
      ]
     },
     "metadata": {
      "needs_background": "light"
     },
     "output_type": "display_data"
    }
   ],
   "source": [
    "pyplot.plot(fpr,tpr,label=\"vs tutti\")\n",
    "pyplot.plot(fpr2,tpr2,label=\"vs c\")\n",
    "pyplot.plot(fpr3,tpr3,label=\"vs l\")\n",
    "pyplot.xlabel(\"False Positive Rate\")\n",
    "pyplot.ylabel(\"True Positive Rate\")\n",
    "pyplot.ylim(0.000001,1)\n",
    "pyplot.grid(True)\n",
    "pyplot.legend(loc='lower right')\n",
    "pyplot.show()"
   ]
  },
  {
   "cell_type": "markdown",
   "metadata": {},
   "source": [
    "### AUC\n",
    "Un criterio semplice per valutare l'efficienza di una variabile discriminante è questo:<br>\n",
    "_\"All'aumentare del fpr, più il tpr aumenta di conseguenza più la variabile è efficiente\"_<br>\n",
    "__Provare a ragionarci sopra, perché ha senso?__"
   ]
  },
  {
   "cell_type": "markdown",
   "metadata": {},
   "source": [
    "Ovvero, riferendoci alla figura qui sopra, più la curva risulta \"schiacciata\" contro il margine superiore del grafico, meglio è. Il ché equivale a dire: _più l'integrale della curva ROC è alto, più la variabile è efficiente._<br>\n",
    "L'integrale della curva ROC ha un nome, si chiama AUC (area under the curve) e fortunatamete ci viene fornito direttamente dal nostro algoritmo."
   ]
  },
  {
   "cell_type": "code",
   "execution_count": 31,
   "metadata": {},
   "outputs": [
    {
     "name": "stdout",
     "output_type": "stream",
     "text": [
      "0.6702144535131177 0.6551470125447613 0.6721782172260098\n"
     ]
    }
   ],
   "source": [
    "print (auc1, auc2, auc3)"
   ]
  },
  {
   "cell_type": "markdown",
   "metadata": {},
   "source": [
    "Il grafico sopra contiene tre curve ROC, come avevamo anticipato volevamo scoprire quale dei jet fosse più difficile da distinguere dal b-jet:<br>\n",
    "__Cosa si deduce dalle curve? Ciò rispecchia quello che ci aspettiamo dalla teoria?__"
   ]
  },
  {
   "cell_type": "markdown",
   "metadata": {},
   "source": [
    "__Provare a costruire le curve ROC per tutte le variabili consigliate__ (per farlo basta sostituire nell'algoritmo dove c'è \"data[:,11]\", al posto di 11 un altro numero)<br>"
   ]
  },
  {
   "cell_type": "markdown",
   "metadata": {},
   "source": [
    "__Confrontare le AUC per tutte queste variabili, qual è la variabile discriminante più efficiente?__"
   ]
  }
 ],
 "metadata": {
  "colab": {
   "collapsed_sections": [],
   "name": "plot_NNinput.ipynb",
   "provenance": []
  },
  "kernelspec": {
   "display_name": "Python 3",
   "language": "python",
   "name": "python3"
  },
  "language_info": {
   "codemirror_mode": {
    "name": "ipython",
    "version": 3
   },
   "file_extension": ".py",
   "mimetype": "text/x-python",
   "name": "python",
   "nbconvert_exporter": "python",
   "pygments_lexer": "ipython3",
   "version": "3.7.3"
  }
 },
 "nbformat": 4,
 "nbformat_minor": 1
}
